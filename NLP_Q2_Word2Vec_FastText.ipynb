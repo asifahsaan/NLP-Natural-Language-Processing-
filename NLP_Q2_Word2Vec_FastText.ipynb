{
  "nbformat": 4,
  "nbformat_minor": 0,
  "metadata": {
    "colab": {
      "provenance": [],
      "gpuType": "T4",
      "collapsed_sections": [
        "JVAAFclyywq6",
        "D2LA_Z9kyzYG",
        "96n2CE1NYjbn",
        "kfRZDCEJqGOP",
        "VKvLhzDHqUDh"
      ],
      "toc_visible": true
    },
    "kernelspec": {
      "name": "python3",
      "display_name": "Python 3"
    },
    "language_info": {
      "name": "python"
    },
    "accelerator": "GPU",
    "gpuClass": "standard"
  },
  "cells": [
    {
      "cell_type": "markdown",
      "source": [
        "<br>\n",
        "<br>\n",
        "<center>\n",
        "\n",
        "|Title:     | NLP Assignment 2, Q#2, Word2Vec & FastText |\n",
        "|         :-            |                             :-:                               |\n",
        "| **Resource Person:**  | Dr. Maryam Bashir                                      |\n",
        "| **Course Title:**     | Natural Language Processing                                                 |\n",
        "| **Credit Hours:**     | 3(3,0)                                                        |\n",
        "| **Work Objective:**     | Implementation of DL models with Embedding                 |\n",
        "<br>\n",
        "            |          **Submitted By** |\n",
        "\n",
        "|Sr. # | Name                   | Registration No. | Email Address           |\n",
        "| :-   | :-                     | :-               | :-                      \n",
        "| 1    | Asif Ahsan | 20L-2370         | l202370@lhr.nu.edu.pk |\n",
        "\n",
        "<br>"
      ],
      "metadata": {
        "id": "1XexpULuX99h"
      }
    },
    {
      "cell_type": "markdown",
      "source": [
        "# Importing Libraries"
      ],
      "metadata": {
        "id": "JVAAFclyywq6"
      }
    },
    {
      "cell_type": "code",
      "source": [
        "import pandas as pd\n",
        "import numpy as np\n",
        "\n",
        "import numpy as np # linear algebra\n",
        "import pandas as pd # data processing, CSV file I/O (e.g. pd.read_csv)\n",
        "\n",
        "from sklearn.feature_extraction.text import CountVectorizer\n",
        "from keras.preprocessing.text import Tokenizer\n",
        "# from keras_preprocessing.sequence import pad_sequences\n",
        "from keras.models import Sequential\n",
        "from keras.layers import Dense, Embedding, LSTM, SpatialDropout1D, GRU, Bidirectional\n",
        "from sklearn.model_selection import train_test_split\n",
        "from keras.utils.np_utils import to_categorical\n",
        "import re\n",
        "\n",
        "from keras.preprocessing import sequence\n",
        "\n",
        "import tensorflow as tf\n",
        "\n",
        "# Import Plotting Libararies\n",
        "import seaborn as sns\n",
        "import matplotlib.pyplot as plt\n",
        "from sklearn.model_selection import train_test_split\n",
        "\n",
        "# Model Evaluation Libraries\n",
        "from sklearn.metrics import classification_report, confusion_matrix"
      ],
      "metadata": {
        "id": "lVTyrNYXnWGb"
      },
      "execution_count": null,
      "outputs": []
    },
    {
      "cell_type": "markdown",
      "source": [
        "# Reading dataset"
      ],
      "metadata": {
        "id": "D2LA_Z9kyzYG"
      }
    },
    {
      "cell_type": "code",
      "source": [
        "df = pd.read_csv(\"urdu-sentiment-corpus-v1.tsv\", delimiter=\"\\t\", encoding=\"utf-8\")"
      ],
      "metadata": {
        "id": "ZqnFFPvwnh8N"
      },
      "execution_count": null,
      "outputs": []
    },
    {
      "cell_type": "code",
      "source": [
        "df = df[df['Class'] != 'O']\n",
        "df.head()"
      ],
      "metadata": {
        "colab": {
          "base_uri": "https://localhost:8080/",
          "height": 206
        },
        "id": "tRaKZkBznk1f",
        "outputId": "de697fea-2c22-40b1-e34e-4e3c594581ec"
      },
      "execution_count": null,
      "outputs": [
        {
          "output_type": "execute_result",
          "data": {
            "text/plain": [
              "                                               Tweet Class\n",
              "0  میں نے ایٹم بم بنایا ھے ۔۔۔۔او بھائی ایٹم بمب ...     P\n",
              "1  چندے سے انقلاب اور عمران خان وزیر اعظم نہیں بن...     N\n",
              "3  سرچ انجن گوگل کے نائب صدر نے فضا میں ، 130,000...     P\n",
              "4    ابھی تک اسکی لہریں کبھی کبھی آ جاتی ہیں یار :أْ     P\n",
              "5   گندی زبان اور گٹر جیسے دماغ والے جاهل جیالے ه...     N"
            ],
            "text/html": [
              "\n",
              "  <div id=\"df-6ce97a09-98d9-43b3-adaf-befecdf43997\">\n",
              "    <div class=\"colab-df-container\">\n",
              "      <div>\n",
              "<style scoped>\n",
              "    .dataframe tbody tr th:only-of-type {\n",
              "        vertical-align: middle;\n",
              "    }\n",
              "\n",
              "    .dataframe tbody tr th {\n",
              "        vertical-align: top;\n",
              "    }\n",
              "\n",
              "    .dataframe thead th {\n",
              "        text-align: right;\n",
              "    }\n",
              "</style>\n",
              "<table border=\"1\" class=\"dataframe\">\n",
              "  <thead>\n",
              "    <tr style=\"text-align: right;\">\n",
              "      <th></th>\n",
              "      <th>Tweet</th>\n",
              "      <th>Class</th>\n",
              "    </tr>\n",
              "  </thead>\n",
              "  <tbody>\n",
              "    <tr>\n",
              "      <th>0</th>\n",
              "      <td>میں نے ایٹم بم بنایا ھے ۔۔۔۔او بھائی ایٹم بمب ...</td>\n",
              "      <td>P</td>\n",
              "    </tr>\n",
              "    <tr>\n",
              "      <th>1</th>\n",
              "      <td>چندے سے انقلاب اور عمران خان وزیر اعظم نہیں بن...</td>\n",
              "      <td>N</td>\n",
              "    </tr>\n",
              "    <tr>\n",
              "      <th>3</th>\n",
              "      <td>سرچ انجن گوگل کے نائب صدر نے فضا میں ، 130,000...</td>\n",
              "      <td>P</td>\n",
              "    </tr>\n",
              "    <tr>\n",
              "      <th>4</th>\n",
              "      <td>ابھی تک اسکی لہریں کبھی کبھی آ جاتی ہیں یار :أْ</td>\n",
              "      <td>P</td>\n",
              "    </tr>\n",
              "    <tr>\n",
              "      <th>5</th>\n",
              "      <td>گندی زبان اور گٹر جیسے دماغ والے جاهل جیالے ه...</td>\n",
              "      <td>N</td>\n",
              "    </tr>\n",
              "  </tbody>\n",
              "</table>\n",
              "</div>\n",
              "      <button class=\"colab-df-convert\" onclick=\"convertToInteractive('df-6ce97a09-98d9-43b3-adaf-befecdf43997')\"\n",
              "              title=\"Convert this dataframe to an interactive table.\"\n",
              "              style=\"display:none;\">\n",
              "        \n",
              "  <svg xmlns=\"http://www.w3.org/2000/svg\" height=\"24px\"viewBox=\"0 0 24 24\"\n",
              "       width=\"24px\">\n",
              "    <path d=\"M0 0h24v24H0V0z\" fill=\"none\"/>\n",
              "    <path d=\"M18.56 5.44l.94 2.06.94-2.06 2.06-.94-2.06-.94-.94-2.06-.94 2.06-2.06.94zm-11 1L8.5 8.5l.94-2.06 2.06-.94-2.06-.94L8.5 2.5l-.94 2.06-2.06.94zm10 10l.94 2.06.94-2.06 2.06-.94-2.06-.94-.94-2.06-.94 2.06-2.06.94z\"/><path d=\"M17.41 7.96l-1.37-1.37c-.4-.4-.92-.59-1.43-.59-.52 0-1.04.2-1.43.59L10.3 9.45l-7.72 7.72c-.78.78-.78 2.05 0 2.83L4 21.41c.39.39.9.59 1.41.59.51 0 1.02-.2 1.41-.59l7.78-7.78 2.81-2.81c.8-.78.8-2.07 0-2.86zM5.41 20L4 18.59l7.72-7.72 1.47 1.35L5.41 20z\"/>\n",
              "  </svg>\n",
              "      </button>\n",
              "      \n",
              "  <style>\n",
              "    .colab-df-container {\n",
              "      display:flex;\n",
              "      flex-wrap:wrap;\n",
              "      gap: 12px;\n",
              "    }\n",
              "\n",
              "    .colab-df-convert {\n",
              "      background-color: #E8F0FE;\n",
              "      border: none;\n",
              "      border-radius: 50%;\n",
              "      cursor: pointer;\n",
              "      display: none;\n",
              "      fill: #1967D2;\n",
              "      height: 32px;\n",
              "      padding: 0 0 0 0;\n",
              "      width: 32px;\n",
              "    }\n",
              "\n",
              "    .colab-df-convert:hover {\n",
              "      background-color: #E2EBFA;\n",
              "      box-shadow: 0px 1px 2px rgba(60, 64, 67, 0.3), 0px 1px 3px 1px rgba(60, 64, 67, 0.15);\n",
              "      fill: #174EA6;\n",
              "    }\n",
              "\n",
              "    [theme=dark] .colab-df-convert {\n",
              "      background-color: #3B4455;\n",
              "      fill: #D2E3FC;\n",
              "    }\n",
              "\n",
              "    [theme=dark] .colab-df-convert:hover {\n",
              "      background-color: #434B5C;\n",
              "      box-shadow: 0px 1px 3px 1px rgba(0, 0, 0, 0.15);\n",
              "      filter: drop-shadow(0px 1px 2px rgba(0, 0, 0, 0.3));\n",
              "      fill: #FFFFFF;\n",
              "    }\n",
              "  </style>\n",
              "\n",
              "      <script>\n",
              "        const buttonEl =\n",
              "          document.querySelector('#df-6ce97a09-98d9-43b3-adaf-befecdf43997 button.colab-df-convert');\n",
              "        buttonEl.style.display =\n",
              "          google.colab.kernel.accessAllowed ? 'block' : 'none';\n",
              "\n",
              "        async function convertToInteractive(key) {\n",
              "          const element = document.querySelector('#df-6ce97a09-98d9-43b3-adaf-befecdf43997');\n",
              "          const dataTable =\n",
              "            await google.colab.kernel.invokeFunction('convertToInteractive',\n",
              "                                                     [key], {});\n",
              "          if (!dataTable) return;\n",
              "\n",
              "          const docLinkHtml = 'Like what you see? Visit the ' +\n",
              "            '<a target=\"_blank\" href=https://colab.research.google.com/notebooks/data_table.ipynb>data table notebook</a>'\n",
              "            + ' to learn more about interactive tables.';\n",
              "          element.innerHTML = '';\n",
              "          dataTable['output_type'] = 'display_data';\n",
              "          await google.colab.output.renderOutput(dataTable, element);\n",
              "          const docLink = document.createElement('div');\n",
              "          docLink.innerHTML = docLinkHtml;\n",
              "          element.appendChild(docLink);\n",
              "        }\n",
              "      </script>\n",
              "    </div>\n",
              "  </div>\n",
              "  "
            ]
          },
          "metadata": {},
          "execution_count": 6
        }
      ]
    },
    {
      "cell_type": "markdown",
      "source": [
        "# Preprocessing"
      ],
      "metadata": {
        "id": "96n2CE1NYjbn"
      }
    },
    {
      "cell_type": "code",
      "source": [
        "!pip install urduhack"
      ],
      "metadata": {
        "colab": {
          "base_uri": "https://localhost:8080/"
        },
        "id": "bzIKTlS9nnM4",
        "outputId": "612aabd5-2b52-4f9e-b2d8-8eec419a79d6"
      },
      "execution_count": null,
      "outputs": [
        {
          "output_type": "stream",
          "name": "stdout",
          "text": [
            "Looking in indexes: https://pypi.org/simple, https://us-python.pkg.dev/colab-wheels/public/simple/\n",
            "Collecting urduhack\n",
            "  Downloading urduhack-1.1.1-py3-none-any.whl (105 kB)\n",
            "\u001b[2K     \u001b[90m━━━━━━━━━━━━━━━━━━━━━━━━━━━━━━━━━━━━━━━\u001b[0m \u001b[32m105.5/105.5 kB\u001b[0m \u001b[31m3.5 MB/s\u001b[0m eta \u001b[36m0:00:00\u001b[0m\n",
            "\u001b[?25hCollecting tf2crf (from urduhack)\n",
            "  Downloading tf2crf-0.1.33-py2.py3-none-any.whl (7.3 kB)\n",
            "Collecting tensorflow-datasets~=3.1 (from urduhack)\n",
            "  Downloading tensorflow_datasets-3.2.1-py3-none-any.whl (3.4 MB)\n",
            "\u001b[2K     \u001b[90m━━━━━━━━━━━━━━━━━━━━━━━━━━━━━━━━━━━━━━━━\u001b[0m \u001b[32m3.4/3.4 MB\u001b[0m \u001b[31m52.0 MB/s\u001b[0m eta \u001b[36m0:00:00\u001b[0m\n",
            "\u001b[?25hCollecting Click~=7.1 (from urduhack)\n",
            "  Downloading click-7.1.2-py2.py3-none-any.whl (82 kB)\n",
            "\u001b[2K     \u001b[90m━━━━━━━━━━━━━━━━━━━━━━━━━━━━━━━━━━━━━━━━\u001b[0m \u001b[32m82.8/82.8 kB\u001b[0m \u001b[31m12.7 MB/s\u001b[0m eta \u001b[36m0:00:00\u001b[0m\n",
            "\u001b[?25hRequirement already satisfied: regex in /usr/local/lib/python3.10/dist-packages (from urduhack) (2022.10.31)\n",
            "Requirement already satisfied: absl-py in /usr/local/lib/python3.10/dist-packages (from tensorflow-datasets~=3.1->urduhack) (1.4.0)\n",
            "Requirement already satisfied: attrs>=18.1.0 in /usr/local/lib/python3.10/dist-packages (from tensorflow-datasets~=3.1->urduhack) (23.1.0)\n",
            "Collecting dill (from tensorflow-datasets~=3.1->urduhack)\n",
            "  Downloading dill-0.3.6-py3-none-any.whl (110 kB)\n",
            "\u001b[2K     \u001b[90m━━━━━━━━━━━━━━━━━━━━━━━━━━━━━━━━━━━━━━\u001b[0m \u001b[32m110.5/110.5 kB\u001b[0m \u001b[31m16.4 MB/s\u001b[0m eta \u001b[36m0:00:00\u001b[0m\n",
            "\u001b[?25hRequirement already satisfied: future in /usr/local/lib/python3.10/dist-packages (from tensorflow-datasets~=3.1->urduhack) (0.18.3)\n",
            "Requirement already satisfied: numpy in /usr/local/lib/python3.10/dist-packages (from tensorflow-datasets~=3.1->urduhack) (1.22.4)\n",
            "Requirement already satisfied: promise in /usr/local/lib/python3.10/dist-packages (from tensorflow-datasets~=3.1->urduhack) (2.3)\n",
            "Requirement already satisfied: protobuf>=3.6.1 in /usr/local/lib/python3.10/dist-packages (from tensorflow-datasets~=3.1->urduhack) (3.20.3)\n",
            "Requirement already satisfied: requests>=2.19.0 in /usr/local/lib/python3.10/dist-packages (from tensorflow-datasets~=3.1->urduhack) (2.27.1)\n",
            "Requirement already satisfied: six in /usr/local/lib/python3.10/dist-packages (from tensorflow-datasets~=3.1->urduhack) (1.16.0)\n",
            "Requirement already satisfied: tensorflow-metadata in /usr/local/lib/python3.10/dist-packages (from tensorflow-datasets~=3.1->urduhack) (1.13.1)\n",
            "Requirement already satisfied: termcolor in /usr/local/lib/python3.10/dist-packages (from tensorflow-datasets~=3.1->urduhack) (2.3.0)\n",
            "Requirement already satisfied: tqdm in /usr/local/lib/python3.10/dist-packages (from tensorflow-datasets~=3.1->urduhack) (4.65.0)\n",
            "Requirement already satisfied: wrapt in /usr/local/lib/python3.10/dist-packages (from tensorflow-datasets~=3.1->urduhack) (1.14.1)\n",
            "Requirement already satisfied: tensorflow>=2.1.0 in /usr/local/lib/python3.10/dist-packages (from tf2crf->urduhack) (2.12.0)\n",
            "Collecting tensorflow-addons>=0.8.2 (from tf2crf->urduhack)\n",
            "  Downloading tensorflow_addons-0.20.0-cp310-cp310-manylinux_2_17_x86_64.manylinux2014_x86_64.whl (591 kB)\n",
            "\u001b[2K     \u001b[90m━━━━━━━━━━━━━━━━━━━━━━━━━━━━━━━━━━━━━━\u001b[0m \u001b[32m591.0/591.0 kB\u001b[0m \u001b[31m56.4 MB/s\u001b[0m eta \u001b[36m0:00:00\u001b[0m\n",
            "\u001b[?25hRequirement already satisfied: urllib3<1.27,>=1.21.1 in /usr/local/lib/python3.10/dist-packages (from requests>=2.19.0->tensorflow-datasets~=3.1->urduhack) (1.26.15)\n",
            "Requirement already satisfied: certifi>=2017.4.17 in /usr/local/lib/python3.10/dist-packages (from requests>=2.19.0->tensorflow-datasets~=3.1->urduhack) (2022.12.7)\n",
            "Requirement already satisfied: charset-normalizer~=2.0.0 in /usr/local/lib/python3.10/dist-packages (from requests>=2.19.0->tensorflow-datasets~=3.1->urduhack) (2.0.12)\n",
            "Requirement already satisfied: idna<4,>=2.5 in /usr/local/lib/python3.10/dist-packages (from requests>=2.19.0->tensorflow-datasets~=3.1->urduhack) (3.4)\n",
            "Requirement already satisfied: astunparse>=1.6.0 in /usr/local/lib/python3.10/dist-packages (from tensorflow>=2.1.0->tf2crf->urduhack) (1.6.3)\n",
            "Requirement already satisfied: flatbuffers>=2.0 in /usr/local/lib/python3.10/dist-packages (from tensorflow>=2.1.0->tf2crf->urduhack) (23.3.3)\n",
            "Requirement already satisfied: gast<=0.4.0,>=0.2.1 in /usr/local/lib/python3.10/dist-packages (from tensorflow>=2.1.0->tf2crf->urduhack) (0.4.0)\n",
            "Requirement already satisfied: google-pasta>=0.1.1 in /usr/local/lib/python3.10/dist-packages (from tensorflow>=2.1.0->tf2crf->urduhack) (0.2.0)\n",
            "Requirement already satisfied: grpcio<2.0,>=1.24.3 in /usr/local/lib/python3.10/dist-packages (from tensorflow>=2.1.0->tf2crf->urduhack) (1.54.0)\n",
            "Requirement already satisfied: h5py>=2.9.0 in /usr/local/lib/python3.10/dist-packages (from tensorflow>=2.1.0->tf2crf->urduhack) (3.8.0)\n",
            "Requirement already satisfied: jax>=0.3.15 in /usr/local/lib/python3.10/dist-packages (from tensorflow>=2.1.0->tf2crf->urduhack) (0.4.8)\n",
            "Requirement already satisfied: keras<2.13,>=2.12.0 in /usr/local/lib/python3.10/dist-packages (from tensorflow>=2.1.0->tf2crf->urduhack) (2.12.0)\n",
            "Requirement already satisfied: libclang>=13.0.0 in /usr/local/lib/python3.10/dist-packages (from tensorflow>=2.1.0->tf2crf->urduhack) (16.0.0)\n",
            "Requirement already satisfied: opt-einsum>=2.3.2 in /usr/local/lib/python3.10/dist-packages (from tensorflow>=2.1.0->tf2crf->urduhack) (3.3.0)\n",
            "Requirement already satisfied: packaging in /usr/local/lib/python3.10/dist-packages (from tensorflow>=2.1.0->tf2crf->urduhack) (23.1)\n",
            "Requirement already satisfied: setuptools in /usr/local/lib/python3.10/dist-packages (from tensorflow>=2.1.0->tf2crf->urduhack) (67.7.2)\n",
            "Requirement already satisfied: tensorboard<2.13,>=2.12 in /usr/local/lib/python3.10/dist-packages (from tensorflow>=2.1.0->tf2crf->urduhack) (2.12.2)\n",
            "Requirement already satisfied: tensorflow-estimator<2.13,>=2.12.0 in /usr/local/lib/python3.10/dist-packages (from tensorflow>=2.1.0->tf2crf->urduhack) (2.12.0)\n",
            "Requirement already satisfied: typing-extensions>=3.6.6 in /usr/local/lib/python3.10/dist-packages (from tensorflow>=2.1.0->tf2crf->urduhack) (4.5.0)\n",
            "Requirement already satisfied: tensorflow-io-gcs-filesystem>=0.23.1 in /usr/local/lib/python3.10/dist-packages (from tensorflow>=2.1.0->tf2crf->urduhack) (0.32.0)\n",
            "Collecting typeguard<3.0.0,>=2.7 (from tensorflow-addons>=0.8.2->tf2crf->urduhack)\n",
            "  Downloading typeguard-2.13.3-py3-none-any.whl (17 kB)\n",
            "Requirement already satisfied: googleapis-common-protos<2,>=1.52.0 in /usr/local/lib/python3.10/dist-packages (from tensorflow-metadata->tensorflow-datasets~=3.1->urduhack) (1.59.0)\n",
            "Requirement already satisfied: wheel<1.0,>=0.23.0 in /usr/local/lib/python3.10/dist-packages (from astunparse>=1.6.0->tensorflow>=2.1.0->tf2crf->urduhack) (0.40.0)\n",
            "Requirement already satisfied: ml-dtypes>=0.0.3 in /usr/local/lib/python3.10/dist-packages (from jax>=0.3.15->tensorflow>=2.1.0->tf2crf->urduhack) (0.1.0)\n",
            "Requirement already satisfied: scipy>=1.7 in /usr/local/lib/python3.10/dist-packages (from jax>=0.3.15->tensorflow>=2.1.0->tf2crf->urduhack) (1.10.1)\n",
            "Requirement already satisfied: google-auth<3,>=1.6.3 in /usr/local/lib/python3.10/dist-packages (from tensorboard<2.13,>=2.12->tensorflow>=2.1.0->tf2crf->urduhack) (2.17.3)\n",
            "Requirement already satisfied: google-auth-oauthlib<1.1,>=0.5 in /usr/local/lib/python3.10/dist-packages (from tensorboard<2.13,>=2.12->tensorflow>=2.1.0->tf2crf->urduhack) (1.0.0)\n",
            "Requirement already satisfied: markdown>=2.6.8 in /usr/local/lib/python3.10/dist-packages (from tensorboard<2.13,>=2.12->tensorflow>=2.1.0->tf2crf->urduhack) (3.4.3)\n",
            "Requirement already satisfied: tensorboard-data-server<0.8.0,>=0.7.0 in /usr/local/lib/python3.10/dist-packages (from tensorboard<2.13,>=2.12->tensorflow>=2.1.0->tf2crf->urduhack) (0.7.0)\n",
            "Requirement already satisfied: tensorboard-plugin-wit>=1.6.0 in /usr/local/lib/python3.10/dist-packages (from tensorboard<2.13,>=2.12->tensorflow>=2.1.0->tf2crf->urduhack) (1.8.1)\n",
            "Requirement already satisfied: werkzeug>=1.0.1 in /usr/local/lib/python3.10/dist-packages (from tensorboard<2.13,>=2.12->tensorflow>=2.1.0->tf2crf->urduhack) (2.3.0)\n",
            "Requirement already satisfied: cachetools<6.0,>=2.0.0 in /usr/local/lib/python3.10/dist-packages (from google-auth<3,>=1.6.3->tensorboard<2.13,>=2.12->tensorflow>=2.1.0->tf2crf->urduhack) (5.3.0)\n",
            "Requirement already satisfied: pyasn1-modules>=0.2.1 in /usr/local/lib/python3.10/dist-packages (from google-auth<3,>=1.6.3->tensorboard<2.13,>=2.12->tensorflow>=2.1.0->tf2crf->urduhack) (0.3.0)\n",
            "Requirement already satisfied: rsa<5,>=3.1.4 in /usr/local/lib/python3.10/dist-packages (from google-auth<3,>=1.6.3->tensorboard<2.13,>=2.12->tensorflow>=2.1.0->tf2crf->urduhack) (4.9)\n",
            "Requirement already satisfied: requests-oauthlib>=0.7.0 in /usr/local/lib/python3.10/dist-packages (from google-auth-oauthlib<1.1,>=0.5->tensorboard<2.13,>=2.12->tensorflow>=2.1.0->tf2crf->urduhack) (1.3.1)\n",
            "Requirement already satisfied: MarkupSafe>=2.1.1 in /usr/local/lib/python3.10/dist-packages (from werkzeug>=1.0.1->tensorboard<2.13,>=2.12->tensorflow>=2.1.0->tf2crf->urduhack) (2.1.2)\n",
            "Requirement already satisfied: pyasn1<0.6.0,>=0.4.6 in /usr/local/lib/python3.10/dist-packages (from pyasn1-modules>=0.2.1->google-auth<3,>=1.6.3->tensorboard<2.13,>=2.12->tensorflow>=2.1.0->tf2crf->urduhack) (0.5.0)\n",
            "Requirement already satisfied: oauthlib>=3.0.0 in /usr/local/lib/python3.10/dist-packages (from requests-oauthlib>=0.7.0->google-auth-oauthlib<1.1,>=0.5->tensorboard<2.13,>=2.12->tensorflow>=2.1.0->tf2crf->urduhack) (3.2.2)\n",
            "Installing collected packages: typeguard, dill, Click, tensorflow-addons, tensorflow-datasets, tf2crf, urduhack\n",
            "  Attempting uninstall: Click\n",
            "    Found existing installation: click 8.1.3\n",
            "    Uninstalling click-8.1.3:\n",
            "      Successfully uninstalled click-8.1.3\n",
            "  Attempting uninstall: tensorflow-datasets\n",
            "    Found existing installation: tensorflow-datasets 4.9.2\n",
            "    Uninstalling tensorflow-datasets-4.9.2:\n",
            "      Successfully uninstalled tensorflow-datasets-4.9.2\n",
            "\u001b[31mERROR: pip's dependency resolver does not currently take into account all the packages that are installed. This behaviour is the source of the following dependency conflicts.\n",
            "flask 2.2.4 requires click>=8.0, but you have click 7.1.2 which is incompatible.\n",
            "pip-tools 6.13.0 requires click>=8, but you have click 7.1.2 which is incompatible.\u001b[0m\u001b[31m\n",
            "\u001b[0mSuccessfully installed Click-7.1.2 dill-0.3.6 tensorflow-addons-0.20.0 tensorflow-datasets-3.2.1 tf2crf-0.1.33 typeguard-2.13.3 urduhack-1.1.1\n"
          ]
        }
      ]
    },
    {
      "cell_type": "code",
      "source": [
        "import urduhack\n",
        "urduhack.download()\n",
        "from urduhack.normalization import normalize\n",
        "from urduhack.preprocessing import normalize_whitespace, remove_punctuation, remove_accents, replace_urls, replace_emails, replace_numbers, replace_currency_symbols, remove_english_alphabets"
      ],
      "metadata": {
        "colab": {
          "base_uri": "https://localhost:8080/"
        },
        "id": "hdxoPOhGoB-R",
        "outputId": "21a167b7-ed42-4c94-8971-643aff9ff5f1"
      },
      "execution_count": null,
      "outputs": [
        {
          "output_type": "stream",
          "name": "stderr",
          "text": [
            "/usr/local/lib/python3.10/dist-packages/tensorflow_addons/utils/tfa_eol_msg.py:23: UserWarning: \n",
            "\n",
            "TensorFlow Addons (TFA) has ended development and introduction of new features.\n",
            "TFA has entered a minimal maintenance and release mode until a planned end of life in May 2024.\n",
            "Please modify downstream libraries to take dependencies from other repositories in our TensorFlow community (e.g. Keras, Keras-CV, and Keras-NLP). \n",
            "\n",
            "For more information see: https://github.com/tensorflow/addons/issues/2807 \n",
            "\n",
            "  warnings.warn(\n"
          ]
        },
        {
          "output_type": "stream",
          "name": "stdout",
          "text": [
            "Downloading data from https://github.com/urduhack/resources/releases/download/word_tokenizer/word_tokenizer.zip\n",
            "36788015/36788015 [==============================] - 0s 0us/step\n",
            "Downloading data from https://github.com/urduhack/resources/releases/download/pos_tagger/pos_tagger.zip\n",
            "2761433/2761433 [==============================] - 0s 0us/step\n",
            "Downloading data from https://github.com/urduhack/resources/releases/download/ner/ner.zip\n",
            "11723346/11723346 [==============================] - 0s 0us/step\n",
            "Downloading data from https://github.com/urduhack/resources/releases/download/lemmatizer/ur_lemma_lookup.zip\n",
            "89078/89078 [==============================] - 0s 0us/step\n"
          ]
        }
      ]
    },
    {
      "cell_type": "code",
      "source": [
        "df['Tweet_cleaned'] = df['Tweet'].apply(normalize) # To normalize some text, all you need to do pass unicode text. It will return a str with normalized characters both single and combined, proper spaces after digits and punctuations and diacritics(Zabar - Paish) removed.\n",
        "df['Tweet_cleaned'] = df['Tweet_cleaned'].apply(remove_punctuation) # Remove punctuation from text by removing all instances of marks. marks=',;:'\n",
        "df['Tweet_cleaned'] = df['Tweet_cleaned'].apply(remove_accents) # Remove accents from any accented unicode characters in text str, either by transforming them into ascii equivalents or removing them entirely.\n",
        "df['Tweet_cleaned'] = df['Tweet_cleaned'].apply(replace_urls) # Replace all URLs in text str with replace_with str.\n",
        "df['Tweet_cleaned'] = df['Tweet_cleaned'].apply(replace_emails) # Replace all emails in text str with replace_with str.\n",
        "df['Tweet_cleaned'] = df['Tweet_cleaned'].apply(replace_numbers) # Replace all numbers in text str with replace_with str.\n",
        "df['Tweet_cleaned'] = df['Tweet_cleaned'].apply(replace_currency_symbols) # Replace all currency symbols in text str with string specified by replace_with str.\n",
        "df['Tweet_cleaned'] = df['Tweet_cleaned'].apply(remove_english_alphabets) # Removes English words and digits from a text\n",
        "df['Tweet_cleaned'] = df['Tweet_cleaned'].apply(normalize_whitespace) ## Given text str, replace one or more spacings with a single space, and one or more linebreaks with a single newline. Also strip leading/trailing whitespace."
      ],
      "metadata": {
        "id": "nfst2XOXoFpk"
      },
      "execution_count": null,
      "outputs": []
    },
    {
      "cell_type": "code",
      "source": [
        "import re\n",
        "import nltk\n",
        "\n",
        "def word_tokenized(text):\n",
        "    # Tokenize each word\n",
        "    text =  nltk.WordPunctTokenizer().tokenize(text)\n",
        "    return text"
      ],
      "metadata": {
        "id": "IC-q79Z4oKWh"
      },
      "execution_count": null,
      "outputs": []
    },
    {
      "cell_type": "code",
      "source": [
        "df['Tweet_tokenized'] =  df['Tweet_cleaned'].apply(word_tokenized)"
      ],
      "metadata": {
        "id": "RoEnciqnoOE5"
      },
      "execution_count": null,
      "outputs": []
    },
    {
      "cell_type": "code",
      "source": [
        "df.head()"
      ],
      "metadata": {
        "colab": {
          "base_uri": "https://localhost:8080/"
        },
        "id": "K5WNNYlXoR5n",
        "outputId": "af9fb83f-c6aa-4c94-f8ba-0b873504dfab"
      },
      "execution_count": null,
      "outputs": [
        {
          "output_type": "execute_result",
          "data": {
            "text/plain": [
              "                                               Tweet Class  \\\n",
              "0  میں نے ایٹم بم بنایا ھے ۔۔۔۔او بھائی ایٹم بمب ...     P   \n",
              "1  چندے سے انقلاب اور عمران خان وزیر اعظم نہیں بن...     N   \n",
              "3  سرچ انجن گوگل کے نائب صدر نے فضا میں ، 130,000...     P   \n",
              "4    ابھی تک اسکی لہریں کبھی کبھی آ جاتی ہیں یار :أْ     P   \n",
              "5   گندی زبان اور گٹر جیسے دماغ والے جاهل جیالے ه...     N   \n",
              "\n",
              "                                       Tweet_cleaned  \\\n",
              "0  میں نے ایٹم بم بنایا ھے او بھائی ایٹم بمب کوٹ ...   \n",
              "1  چندے سے انقلاب اور عمران خان وزیر اعظم نہیں بن...   \n",
              "3  سرچ انجن گوگل کے نائب صدر نے فضا میں فٹ کی بلن...   \n",
              "4      ابھی تک اسکی لہریں کبھی کبھی آ جاتی ہیں یار أ   \n",
              "5  گندی زبان اور گٹر جیسے دماغ والے جاہل جیالے ہو...   \n",
              "\n",
              "                                     Tweet_tokenized  \n",
              "0  [میں, نے, ایٹم, بم, بنایا, ھے, او, بھائی, ایٹم...  \n",
              "1  [چندے, سے, انقلاب, اور, عمران, خان, وزیر, اعظم...  \n",
              "3  [سرچ, انجن, گوگل, کے, نائب, صدر, نے, فضا, میں,...  \n",
              "4  [ابھی, تک, اسکی, لہریں, کبھی, کبھی, آ, جاتی, ہ...  \n",
              "5  [گندی, زبان, اور, گٹر, جیسے, دماغ, والے, جاہل,...  "
            ],
            "text/html": [
              "\n",
              "  <div id=\"df-71ff77d2-f44c-4f0f-803d-6dede0f697f9\">\n",
              "    <div class=\"colab-df-container\">\n",
              "      <div>\n",
              "<style scoped>\n",
              "    .dataframe tbody tr th:only-of-type {\n",
              "        vertical-align: middle;\n",
              "    }\n",
              "\n",
              "    .dataframe tbody tr th {\n",
              "        vertical-align: top;\n",
              "    }\n",
              "\n",
              "    .dataframe thead th {\n",
              "        text-align: right;\n",
              "    }\n",
              "</style>\n",
              "<table border=\"1\" class=\"dataframe\">\n",
              "  <thead>\n",
              "    <tr style=\"text-align: right;\">\n",
              "      <th></th>\n",
              "      <th>Tweet</th>\n",
              "      <th>Class</th>\n",
              "      <th>Tweet_cleaned</th>\n",
              "      <th>Tweet_tokenized</th>\n",
              "    </tr>\n",
              "  </thead>\n",
              "  <tbody>\n",
              "    <tr>\n",
              "      <th>0</th>\n",
              "      <td>میں نے ایٹم بم بنایا ھے ۔۔۔۔او بھائی ایٹم بمب ...</td>\n",
              "      <td>P</td>\n",
              "      <td>میں نے ایٹم بم بنایا ھے او بھائی ایٹم بمب کوٹ ...</td>\n",
              "      <td>[میں, نے, ایٹم, بم, بنایا, ھے, او, بھائی, ایٹم...</td>\n",
              "    </tr>\n",
              "    <tr>\n",
              "      <th>1</th>\n",
              "      <td>چندے سے انقلاب اور عمران خان وزیر اعظم نہیں بن...</td>\n",
              "      <td>N</td>\n",
              "      <td>چندے سے انقلاب اور عمران خان وزیر اعظم نہیں بن...</td>\n",
              "      <td>[چندے, سے, انقلاب, اور, عمران, خان, وزیر, اعظم...</td>\n",
              "    </tr>\n",
              "    <tr>\n",
              "      <th>3</th>\n",
              "      <td>سرچ انجن گوگل کے نائب صدر نے فضا میں ، 130,000...</td>\n",
              "      <td>P</td>\n",
              "      <td>سرچ انجن گوگل کے نائب صدر نے فضا میں فٹ کی بلن...</td>\n",
              "      <td>[سرچ, انجن, گوگل, کے, نائب, صدر, نے, فضا, میں,...</td>\n",
              "    </tr>\n",
              "    <tr>\n",
              "      <th>4</th>\n",
              "      <td>ابھی تک اسکی لہریں کبھی کبھی آ جاتی ہیں یار :أْ</td>\n",
              "      <td>P</td>\n",
              "      <td>ابھی تک اسکی لہریں کبھی کبھی آ جاتی ہیں یار أ</td>\n",
              "      <td>[ابھی, تک, اسکی, لہریں, کبھی, کبھی, آ, جاتی, ہ...</td>\n",
              "    </tr>\n",
              "    <tr>\n",
              "      <th>5</th>\n",
              "      <td>گندی زبان اور گٹر جیسے دماغ والے جاهل جیالے ه...</td>\n",
              "      <td>N</td>\n",
              "      <td>گندی زبان اور گٹر جیسے دماغ والے جاہل جیالے ہو...</td>\n",
              "      <td>[گندی, زبان, اور, گٹر, جیسے, دماغ, والے, جاہل,...</td>\n",
              "    </tr>\n",
              "  </tbody>\n",
              "</table>\n",
              "</div>\n",
              "      <button class=\"colab-df-convert\" onclick=\"convertToInteractive('df-71ff77d2-f44c-4f0f-803d-6dede0f697f9')\"\n",
              "              title=\"Convert this dataframe to an interactive table.\"\n",
              "              style=\"display:none;\">\n",
              "        \n",
              "  <svg xmlns=\"http://www.w3.org/2000/svg\" height=\"24px\"viewBox=\"0 0 24 24\"\n",
              "       width=\"24px\">\n",
              "    <path d=\"M0 0h24v24H0V0z\" fill=\"none\"/>\n",
              "    <path d=\"M18.56 5.44l.94 2.06.94-2.06 2.06-.94-2.06-.94-.94-2.06-.94 2.06-2.06.94zm-11 1L8.5 8.5l.94-2.06 2.06-.94-2.06-.94L8.5 2.5l-.94 2.06-2.06.94zm10 10l.94 2.06.94-2.06 2.06-.94-2.06-.94-.94-2.06-.94 2.06-2.06.94z\"/><path d=\"M17.41 7.96l-1.37-1.37c-.4-.4-.92-.59-1.43-.59-.52 0-1.04.2-1.43.59L10.3 9.45l-7.72 7.72c-.78.78-.78 2.05 0 2.83L4 21.41c.39.39.9.59 1.41.59.51 0 1.02-.2 1.41-.59l7.78-7.78 2.81-2.81c.8-.78.8-2.07 0-2.86zM5.41 20L4 18.59l7.72-7.72 1.47 1.35L5.41 20z\"/>\n",
              "  </svg>\n",
              "      </button>\n",
              "      \n",
              "  <style>\n",
              "    .colab-df-container {\n",
              "      display:flex;\n",
              "      flex-wrap:wrap;\n",
              "      gap: 12px;\n",
              "    }\n",
              "\n",
              "    .colab-df-convert {\n",
              "      background-color: #E8F0FE;\n",
              "      border: none;\n",
              "      border-radius: 50%;\n",
              "      cursor: pointer;\n",
              "      display: none;\n",
              "      fill: #1967D2;\n",
              "      height: 32px;\n",
              "      padding: 0 0 0 0;\n",
              "      width: 32px;\n",
              "    }\n",
              "\n",
              "    .colab-df-convert:hover {\n",
              "      background-color: #E2EBFA;\n",
              "      box-shadow: 0px 1px 2px rgba(60, 64, 67, 0.3), 0px 1px 3px 1px rgba(60, 64, 67, 0.15);\n",
              "      fill: #174EA6;\n",
              "    }\n",
              "\n",
              "    [theme=dark] .colab-df-convert {\n",
              "      background-color: #3B4455;\n",
              "      fill: #D2E3FC;\n",
              "    }\n",
              "\n",
              "    [theme=dark] .colab-df-convert:hover {\n",
              "      background-color: #434B5C;\n",
              "      box-shadow: 0px 1px 3px 1px rgba(0, 0, 0, 0.15);\n",
              "      filter: drop-shadow(0px 1px 2px rgba(0, 0, 0, 0.3));\n",
              "      fill: #FFFFFF;\n",
              "    }\n",
              "  </style>\n",
              "\n",
              "      <script>\n",
              "        const buttonEl =\n",
              "          document.querySelector('#df-71ff77d2-f44c-4f0f-803d-6dede0f697f9 button.colab-df-convert');\n",
              "        buttonEl.style.display =\n",
              "          google.colab.kernel.accessAllowed ? 'block' : 'none';\n",
              "\n",
              "        async function convertToInteractive(key) {\n",
              "          const element = document.querySelector('#df-71ff77d2-f44c-4f0f-803d-6dede0f697f9');\n",
              "          const dataTable =\n",
              "            await google.colab.kernel.invokeFunction('convertToInteractive',\n",
              "                                                     [key], {});\n",
              "          if (!dataTable) return;\n",
              "\n",
              "          const docLinkHtml = 'Like what you see? Visit the ' +\n",
              "            '<a target=\"_blank\" href=https://colab.research.google.com/notebooks/data_table.ipynb>data table notebook</a>'\n",
              "            + ' to learn more about interactive tables.';\n",
              "          element.innerHTML = '';\n",
              "          dataTable['output_type'] = 'display_data';\n",
              "          await google.colab.output.renderOutput(dataTable, element);\n",
              "          const docLink = document.createElement('div');\n",
              "          docLink.innerHTML = docLinkHtml;\n",
              "          element.appendChild(docLink);\n",
              "        }\n",
              "      </script>\n",
              "    </div>\n",
              "  </div>\n",
              "  "
            ]
          },
          "metadata": {},
          "execution_count": 12
        }
      ]
    },
    {
      "cell_type": "code",
      "source": [
        "# Import Data Preprocessing Libraries \n",
        "from sklearn.preprocessing import LabelEncoder\n",
        "from sklearn.model_selection import train_test_split\n",
        "from sklearn.feature_extraction.text import TfidfVectorizer\n",
        "\n",
        "# Encode the labels\n",
        "le = LabelEncoder()\n",
        "le.fit(df['Class'])\n",
        "df['Class'] = le.transform(df['Class'])"
      ],
      "metadata": {
        "id": "9O8hhO_RoUOI"
      },
      "execution_count": null,
      "outputs": []
    },
    {
      "cell_type": "code",
      "source": [
        "X_train, X_test, Y_train, Y_test = train_test_split(df['Tweet_tokenized'], df['Class'], test_size = 0.25, random_state = 7, shuffle = True)"
      ],
      "metadata": {
        "id": "gA6gzZLMobiW"
      },
      "execution_count": null,
      "outputs": []
    },
    {
      "cell_type": "code",
      "source": [
        "print('Shape of X_train', X_train.shape)\n",
        "print('Shape of X_test', X_test.shape)\n",
        "print('Shape of Y_train', Y_train.shape)\n",
        "print('Shape of Y_test', Y_test.shape)"
      ],
      "metadata": {
        "colab": {
          "base_uri": "https://localhost:8080/"
        },
        "id": "ioYq6miOojks",
        "outputId": "b2d42f00-d6a4-4c62-f72e-ad8c03e15c26"
      },
      "execution_count": null,
      "outputs": [
        {
          "output_type": "stream",
          "name": "stdout",
          "text": [
            "Shape of X_train (735,)\n",
            "Shape of X_test (245,)\n",
            "Shape of Y_train (735,)\n",
            "Shape of Y_test (245,)\n"
          ]
        }
      ]
    },
    {
      "cell_type": "code",
      "source": [
        "df1 = df.copy()"
      ],
      "metadata": {
        "id": "xYBZ5Qy6ok3t"
      },
      "execution_count": null,
      "outputs": []
    },
    {
      "cell_type": "code",
      "source": [
        "# Remove stop words from text\n",
        "from typing import FrozenSet\n",
        "\n",
        "# Urdu Language Stop words list\n",
        "STOP_WORDS: FrozenSet[str] = frozenset(\"\"\"\n",
        " آ آئی آئیں آئے آتا آتی آتے آس آمدید آنا آنسہ آنی آنے آپ آگے آہ آہا آیا اب ابھی ابے\n",
        " ارے اس اسکا اسکی اسکے اسی اسے اف افوہ البتہ الف ان اندر انکا انکی انکے انہوں انہی انہیں اوئے اور اوپر\n",
        " اوہو اپ اپنا اپنوں اپنی اپنے اپنےآپ اکثر اگر اگرچہ اہاہا ایسا ایسی ایسے ایک بائیں بار بارے بالکل باوجود باہر\n",
        " بج بجے بخیر بشرطیکہ بعد بعض بغیر بلکہ بن بنا بناؤ بند بڑی بھر بھریں بھی بہت بہتر تاکہ تاہم تب تجھ\n",
        " تجھی تجھے ترا تری تلک تم تمام تمہارا تمہاروں تمہاری تمہارے تمہیں تو تک تھا تھی تھیں تھے تیرا تیری تیرے\n",
        " جا جاؤ جائیں جائے جاتا جاتی جاتے جانی جانے جب جبکہ جدھر جس جسے جن جناب جنہوں جنہیں جو جہاں جی جیسا\n",
        " جیسوں جیسی جیسے حالانکہ حالاں حصہ حضرت خاطر خالی خواہ خوب خود دائیں درمیان دریں دو دوران دوسرا دوسروں دوسری دوں\n",
        " دکھائیں دی دیئے دیا دیتا دیتی دیتے دیر دینا دینی دینے دیکھو دیں دیے دے ذریعے رکھا رکھتا رکھتی رکھتے رکھنا رکھنی\n",
        " رکھنے رکھو رکھی رکھے رہ رہا رہتا رہتی رہتے رہنا رہنی رہنے رہو رہی رہیں رہے ساتھ سامنے ساڑھے سب سبھی\n",
        " سراسر سمیت سوا سوائے سکا سکتا سکتے سہ سہی سی سے شاید شکریہ صاحب صاحبہ صرف ضرور طرح طرف طور علاوہ عین\n",
        " فقط فلاں فی قبل قطا لئے لائی لائے لاتا لاتی لاتے لانا لانی لانے لایا لو لوجی لوگوں لگ لگا لگتا\n",
        " لگتی لگی لگیں لگے لہذا لی لیا لیتا لیتی لیتے لیکن لیں لیے لے ماسوا مت مجھ مجھی مجھے محترم محترمہ محض\n",
        " مرا مرحبا مری مرے مزید مس میں مسز مسٹر مطابق مل مکرمی مگر مگھر مہربانی میرا میروں میری میرے میں نا نزدیک\n",
        " نما نہ نہیں نیز نیچے نے و وار واسطے واقعی والا والوں والی والے واہ وجہ ورنہ وغیرہ ولے وگرنہ وہ وہاں\n",
        " وہی وہیں ویسا ویسے ویں پاس پایا پر پس پلیز پون پونی پونے پھر پہ پہلا پہلی پہلے پیر پیچھے چاہئے\n",
        " چاہتے چاہیئے چاہے چلا چلو چلیں چلے چناچہ چند چونکہ چکی چکیں چکے ڈالنا ڈالنی ڈالنے ڈالے کئے کا کاش کب کبھی\n",
        " کدھر کر کرتا کرتی کرتے کرم کرنا کرنے کرو کریں کرے کس کسی کسے کم کن کنہیں کو کوئی کون کونسا\n",
        " کونسے کچھ کہ کہا کہاں کہہ کہی کہیں کہے کی کیا کیسا کیسے کیونکر کیونکہ کیوں کیے کے گئی گئے گا گنا\n",
        " گو گویا گی گیا ہائیں ہائے ہاں ہر ہرچند ہرگز ہم ہمارا ہماری ہمارے ہمی ہمیں ہو ہوئی ہوئیں ہوئے ہوا\n",
        " ہوبہو ہوتا ہوتی ہوتیں ہوتے ہونا ہونگے ہونی ہونے ہوں ہی ہیلو ہیں ہے یا یات یعنی یک یہ یہاں یہی یہیں\n",
        "\"\"\".split())\n",
        "\n",
        "\n",
        "def remove_stopwords(text: str):\n",
        "    return \" \".join(word for word in text.split(\", \") if word not in STOP_WORDS)"
      ],
      "metadata": {
        "id": "E74s2RTPbELF"
      },
      "execution_count": null,
      "outputs": []
    },
    {
      "cell_type": "code",
      "source": [
        "from nltk.corpus import stopwords\n",
        "from nltk.tokenize import word_tokenize"
      ],
      "metadata": {
        "id": "dnFeZQYQdFaT"
      },
      "execution_count": null,
      "outputs": []
    },
    {
      "cell_type": "code",
      "source": [
        "import spacy\n",
        "def tokenizer(str):\n",
        "    nlp = spacy.blank('ur')\n",
        "    doc = nlp.tokenizer(str)\n",
        "    return [i.text for i in doc]\n",
        "df[\"tokens\"] = df[\"Tweet_cleaned\"].apply(tokenizer)"
      ],
      "metadata": {
        "id": "rVlPpvhsdPic"
      },
      "execution_count": null,
      "outputs": []
    },
    {
      "cell_type": "code",
      "source": [
        "df.head()"
      ],
      "metadata": {
        "colab": {
          "base_uri": "https://localhost:8080/"
        },
        "id": "u6phuvnVdRgj",
        "outputId": "b8ae49d6-c1ed-4a9f-89e7-5658f1cfa4d0"
      },
      "execution_count": null,
      "outputs": [
        {
          "output_type": "execute_result",
          "data": {
            "text/plain": [
              "                                               Tweet  Class  \\\n",
              "0  میں نے ایٹم بم بنایا ھے ۔۔۔۔او بھائی ایٹم بمب ...      1   \n",
              "1  چندے سے انقلاب اور عمران خان وزیر اعظم نہیں بن...      0   \n",
              "3  سرچ انجن گوگل کے نائب صدر نے فضا میں ، 130,000...      1   \n",
              "4    ابھی تک اسکی لہریں کبھی کبھی آ جاتی ہیں یار :أْ      1   \n",
              "5   گندی زبان اور گٹر جیسے دماغ والے جاهل جیالے ه...      0   \n",
              "\n",
              "                                       Tweet_cleaned  \\\n",
              "0  میں نے ایٹم بم بنایا ھے او بھائی ایٹم بمب کوٹ ...   \n",
              "1  چندے سے انقلاب اور عمران خان وزیر اعظم نہیں بن...   \n",
              "3  سرچ انجن گوگل کے نائب صدر نے فضا میں فٹ کی بلن...   \n",
              "4      ابھی تک اسکی لہریں کبھی کبھی آ جاتی ہیں یار أ   \n",
              "5  گندی زبان اور گٹر جیسے دماغ والے جاہل جیالے ہو...   \n",
              "\n",
              "                                     Tweet_tokenized  \\\n",
              "0  [میں, نے, ایٹم, بم, بنایا, ھے, او, بھائی, ایٹم...   \n",
              "1  [چندے, سے, انقلاب, اور, عمران, خان, وزیر, اعظم...   \n",
              "3  [سرچ, انجن, گوگل, کے, نائب, صدر, نے, فضا, میں,...   \n",
              "4  [ابھی, تک, اسکی, لہریں, کبھی, کبھی, آ, جاتی, ہ...   \n",
              "5  [گندی, زبان, اور, گٹر, جیسے, دماغ, والے, جاہل,...   \n",
              "\n",
              "                                              tokens  \n",
              "0  [میں, نے, ایٹم, بم, بنایا, ھے, او, بھائی, ایٹم...  \n",
              "1  [چندے, سے, انقلاب, اور, عمران, خان, وزیر, اعظم...  \n",
              "3  [سرچ, انجن, گوگل, کے, نائب, صدر, نے, فضا, میں,...  \n",
              "4  [ابھی, تک, اسکی, لہریں, کبھی, کبھی, آ, جاتی, ہ...  \n",
              "5  [گندی, زبان, اور, گٹر, جیسے, دماغ, والے, جاہل,...  "
            ],
            "text/html": [
              "\n",
              "  <div id=\"df-961f10cb-0601-4e50-87d1-48f93bc0302a\">\n",
              "    <div class=\"colab-df-container\">\n",
              "      <div>\n",
              "<style scoped>\n",
              "    .dataframe tbody tr th:only-of-type {\n",
              "        vertical-align: middle;\n",
              "    }\n",
              "\n",
              "    .dataframe tbody tr th {\n",
              "        vertical-align: top;\n",
              "    }\n",
              "\n",
              "    .dataframe thead th {\n",
              "        text-align: right;\n",
              "    }\n",
              "</style>\n",
              "<table border=\"1\" class=\"dataframe\">\n",
              "  <thead>\n",
              "    <tr style=\"text-align: right;\">\n",
              "      <th></th>\n",
              "      <th>Tweet</th>\n",
              "      <th>Class</th>\n",
              "      <th>Tweet_cleaned</th>\n",
              "      <th>Tweet_tokenized</th>\n",
              "      <th>tokens</th>\n",
              "    </tr>\n",
              "  </thead>\n",
              "  <tbody>\n",
              "    <tr>\n",
              "      <th>0</th>\n",
              "      <td>میں نے ایٹم بم بنایا ھے ۔۔۔۔او بھائی ایٹم بمب ...</td>\n",
              "      <td>1</td>\n",
              "      <td>میں نے ایٹم بم بنایا ھے او بھائی ایٹم بمب کوٹ ...</td>\n",
              "      <td>[میں, نے, ایٹم, بم, بنایا, ھے, او, بھائی, ایٹم...</td>\n",
              "      <td>[میں, نے, ایٹم, بم, بنایا, ھے, او, بھائی, ایٹم...</td>\n",
              "    </tr>\n",
              "    <tr>\n",
              "      <th>1</th>\n",
              "      <td>چندے سے انقلاب اور عمران خان وزیر اعظم نہیں بن...</td>\n",
              "      <td>0</td>\n",
              "      <td>چندے سے انقلاب اور عمران خان وزیر اعظم نہیں بن...</td>\n",
              "      <td>[چندے, سے, انقلاب, اور, عمران, خان, وزیر, اعظم...</td>\n",
              "      <td>[چندے, سے, انقلاب, اور, عمران, خان, وزیر, اعظم...</td>\n",
              "    </tr>\n",
              "    <tr>\n",
              "      <th>3</th>\n",
              "      <td>سرچ انجن گوگل کے نائب صدر نے فضا میں ، 130,000...</td>\n",
              "      <td>1</td>\n",
              "      <td>سرچ انجن گوگل کے نائب صدر نے فضا میں فٹ کی بلن...</td>\n",
              "      <td>[سرچ, انجن, گوگل, کے, نائب, صدر, نے, فضا, میں,...</td>\n",
              "      <td>[سرچ, انجن, گوگل, کے, نائب, صدر, نے, فضا, میں,...</td>\n",
              "    </tr>\n",
              "    <tr>\n",
              "      <th>4</th>\n",
              "      <td>ابھی تک اسکی لہریں کبھی کبھی آ جاتی ہیں یار :أْ</td>\n",
              "      <td>1</td>\n",
              "      <td>ابھی تک اسکی لہریں کبھی کبھی آ جاتی ہیں یار أ</td>\n",
              "      <td>[ابھی, تک, اسکی, لہریں, کبھی, کبھی, آ, جاتی, ہ...</td>\n",
              "      <td>[ابھی, تک, اسکی, لہریں, کبھی, کبھی, آ, جاتی, ہ...</td>\n",
              "    </tr>\n",
              "    <tr>\n",
              "      <th>5</th>\n",
              "      <td>گندی زبان اور گٹر جیسے دماغ والے جاهل جیالے ه...</td>\n",
              "      <td>0</td>\n",
              "      <td>گندی زبان اور گٹر جیسے دماغ والے جاہل جیالے ہو...</td>\n",
              "      <td>[گندی, زبان, اور, گٹر, جیسے, دماغ, والے, جاہل,...</td>\n",
              "      <td>[گندی, زبان, اور, گٹر, جیسے, دماغ, والے, جاہل,...</td>\n",
              "    </tr>\n",
              "  </tbody>\n",
              "</table>\n",
              "</div>\n",
              "      <button class=\"colab-df-convert\" onclick=\"convertToInteractive('df-961f10cb-0601-4e50-87d1-48f93bc0302a')\"\n",
              "              title=\"Convert this dataframe to an interactive table.\"\n",
              "              style=\"display:none;\">\n",
              "        \n",
              "  <svg xmlns=\"http://www.w3.org/2000/svg\" height=\"24px\"viewBox=\"0 0 24 24\"\n",
              "       width=\"24px\">\n",
              "    <path d=\"M0 0h24v24H0V0z\" fill=\"none\"/>\n",
              "    <path d=\"M18.56 5.44l.94 2.06.94-2.06 2.06-.94-2.06-.94-.94-2.06-.94 2.06-2.06.94zm-11 1L8.5 8.5l.94-2.06 2.06-.94-2.06-.94L8.5 2.5l-.94 2.06-2.06.94zm10 10l.94 2.06.94-2.06 2.06-.94-2.06-.94-.94-2.06-.94 2.06-2.06.94z\"/><path d=\"M17.41 7.96l-1.37-1.37c-.4-.4-.92-.59-1.43-.59-.52 0-1.04.2-1.43.59L10.3 9.45l-7.72 7.72c-.78.78-.78 2.05 0 2.83L4 21.41c.39.39.9.59 1.41.59.51 0 1.02-.2 1.41-.59l7.78-7.78 2.81-2.81c.8-.78.8-2.07 0-2.86zM5.41 20L4 18.59l7.72-7.72 1.47 1.35L5.41 20z\"/>\n",
              "  </svg>\n",
              "      </button>\n",
              "      \n",
              "  <style>\n",
              "    .colab-df-container {\n",
              "      display:flex;\n",
              "      flex-wrap:wrap;\n",
              "      gap: 12px;\n",
              "    }\n",
              "\n",
              "    .colab-df-convert {\n",
              "      background-color: #E8F0FE;\n",
              "      border: none;\n",
              "      border-radius: 50%;\n",
              "      cursor: pointer;\n",
              "      display: none;\n",
              "      fill: #1967D2;\n",
              "      height: 32px;\n",
              "      padding: 0 0 0 0;\n",
              "      width: 32px;\n",
              "    }\n",
              "\n",
              "    .colab-df-convert:hover {\n",
              "      background-color: #E2EBFA;\n",
              "      box-shadow: 0px 1px 2px rgba(60, 64, 67, 0.3), 0px 1px 3px 1px rgba(60, 64, 67, 0.15);\n",
              "      fill: #174EA6;\n",
              "    }\n",
              "\n",
              "    [theme=dark] .colab-df-convert {\n",
              "      background-color: #3B4455;\n",
              "      fill: #D2E3FC;\n",
              "    }\n",
              "\n",
              "    [theme=dark] .colab-df-convert:hover {\n",
              "      background-color: #434B5C;\n",
              "      box-shadow: 0px 1px 3px 1px rgba(0, 0, 0, 0.15);\n",
              "      filter: drop-shadow(0px 1px 2px rgba(0, 0, 0, 0.3));\n",
              "      fill: #FFFFFF;\n",
              "    }\n",
              "  </style>\n",
              "\n",
              "      <script>\n",
              "        const buttonEl =\n",
              "          document.querySelector('#df-961f10cb-0601-4e50-87d1-48f93bc0302a button.colab-df-convert');\n",
              "        buttonEl.style.display =\n",
              "          google.colab.kernel.accessAllowed ? 'block' : 'none';\n",
              "\n",
              "        async function convertToInteractive(key) {\n",
              "          const element = document.querySelector('#df-961f10cb-0601-4e50-87d1-48f93bc0302a');\n",
              "          const dataTable =\n",
              "            await google.colab.kernel.invokeFunction('convertToInteractive',\n",
              "                                                     [key], {});\n",
              "          if (!dataTable) return;\n",
              "\n",
              "          const docLinkHtml = 'Like what you see? Visit the ' +\n",
              "            '<a target=\"_blank\" href=https://colab.research.google.com/notebooks/data_table.ipynb>data table notebook</a>'\n",
              "            + ' to learn more about interactive tables.';\n",
              "          element.innerHTML = '';\n",
              "          dataTable['output_type'] = 'display_data';\n",
              "          await google.colab.output.renderOutput(dataTable, element);\n",
              "          const docLink = document.createElement('div');\n",
              "          docLink.innerHTML = docLinkHtml;\n",
              "          element.appendChild(docLink);\n",
              "        }\n",
              "      </script>\n",
              "    </div>\n",
              "  </div>\n",
              "  "
            ]
          },
          "metadata": {},
          "execution_count": 20
        }
      ]
    },
    {
      "cell_type": "markdown",
      "source": [
        "# Word2Vec"
      ],
      "metadata": {
        "id": "kfRZDCEJqGOP"
      }
    },
    {
      "cell_type": "code",
      "source": [
        "import gensim\n",
        "\n",
        "model_word2vec = gensim.models.Word2Vec(sentences=df[\"tokens\"], vector_size=128, window=5, workers=10, min_count=1)"
      ],
      "metadata": {
        "id": "oI76MmiYd5Uk"
      },
      "execution_count": null,
      "outputs": []
    },
    {
      "cell_type": "code",
      "source": [
        "# model_w2v = FastText(df[\"tokens\"], vector_size=300,  window=5)\n",
        "model_word2vec.train(df[\"tokens\"], total_examples= len(df[\"tokens\"]), epochs=150)"
      ],
      "metadata": {
        "colab": {
          "base_uri": "https://localhost:8080/"
        },
        "id": "0Kko2dAl5djZ",
        "outputId": "3e38e750-a1e9-4d25-a1a4-2208b9019b1e"
      },
      "execution_count": null,
      "outputs": [
        {
          "output_type": "stream",
          "name": "stderr",
          "text": [
            "WARNING:gensim.models.word2vec:Effective 'alpha' higher than previous training cycles\n"
          ]
        },
        {
          "output_type": "execute_result",
          "data": {
            "text/plain": [
              "(2101671, 2496000)"
            ]
          },
          "metadata": {},
          "execution_count": 19
        }
      ]
    },
    {
      "cell_type": "code",
      "source": [
        "model_word2vec.wv.most_similar(positive='زبان')"
      ],
      "metadata": {
        "colab": {
          "base_uri": "https://localhost:8080/"
        },
        "id": "zxamwzAY5-hy",
        "outputId": "e61c3656-81e9-4684-f919-ba79147656d4"
      },
      "execution_count": null,
      "outputs": [
        {
          "output_type": "execute_result",
          "data": {
            "text/plain": [
              "[('گندی', 0.6271043419837952),\n",
              " ('ذاکر', 0.5663065910339355),\n",
              " ('جوپٹوریوں', 0.5378847718238831),\n",
              " ('گھر', 0.5307013988494873),\n",
              " ('بڑی', 0.5252988934516907),\n",
              " ('سمجھاشاید', 0.5120258331298828),\n",
              " ('گٹر', 0.5116269588470459),\n",
              " ('اپیل', 0.5089778900146484),\n",
              " ('سب', 0.5053891539573669),\n",
              " ('خواہش', 0.503554105758667)]"
            ]
          },
          "metadata": {},
          "execution_count": 20
        }
      ]
    },
    {
      "cell_type": "code",
      "source": [
        "model_word2vec.wv.most_similar(\"قاتل\")"
      ],
      "metadata": {
        "colab": {
          "base_uri": "https://localhost:8080/"
        },
        "id": "Dw5p5qjTd-lp",
        "outputId": "6b952559-9fc8-4ef2-a30a-96ee9cc48e41"
      },
      "execution_count": null,
      "outputs": [
        {
          "output_type": "execute_result",
          "data": {
            "text/plain": [
              "[('مقتول', 0.9678668975830078),\n",
              " ('تمظالم', 0.9071810841560364),\n",
              " ('مظلوم', 0.8463490009307861),\n",
              " ('سدرہ', 0.8422221541404724),\n",
              " ('ہوگئیں', 0.8138723373413086),\n",
              " ('ازدواج', 0.8128204941749573),\n",
              " ('منسلک', 0.8105671405792236),\n",
              " ('رشتہ', 0.8074764609336853),\n",
              " ('انجام', 0.7809795141220093),\n",
              " ('وھ', 0.7694490551948547)]"
            ]
          },
          "metadata": {},
          "execution_count": 21
        }
      ]
    },
    {
      "cell_type": "code",
      "source": [
        "model_word2vec.wv.most_similar(\"عورت\")"
      ],
      "metadata": {
        "colab": {
          "base_uri": "https://localhost:8080/"
        },
        "id": "thpkd6jceAl5",
        "outputId": "c6521db7-df2f-453b-fee1-bc78f2949e2c"
      },
      "execution_count": null,
      "outputs": [
        {
          "output_type": "execute_result",
          "data": {
            "text/plain": [
              "[('تھیوفا', 0.9119712114334106),\n",
              " ('ذات', 0.8829414248466492),\n",
              " ('مرد', 0.8507049679756165),\n",
              " ('پتھر', 0.7790958881378174),\n",
              " ('شرلی', 0.7554786801338196),\n",
              " ('کہتی', 0.7474485635757446),\n",
              " ('اسودوہ', 0.7069426774978638),\n",
              " ('عابدشرلی', 0.7068055868148804),\n",
              " ('چھڈیو', 0.6943199038505554),\n",
              " ('حجر', 0.6926467418670654)]"
            ]
          },
          "metadata": {},
          "execution_count": 22
        }
      ]
    },
    {
      "cell_type": "code",
      "source": [
        "model_word2vec.wv.most_similar(\"بمب\")"
      ],
      "metadata": {
        "colab": {
          "base_uri": "https://localhost:8080/"
        },
        "id": "crEuOqyCeExX",
        "outputId": "bf5b6fb9-9fac-481e-907e-9f3ac3469267"
      },
      "execution_count": null,
      "outputs": [
        {
          "output_type": "execute_result",
          "data": {
            "text/plain": [
              "[('کوٹ', 0.9765730500221252),\n",
              " ('لکھپت', 0.9236005544662476),\n",
              " ('ایٹم', 0.8856752514839172),\n",
              " ('بم', 0.8216408491134644),\n",
              " ('بنتاایٹم', 0.8056259155273438),\n",
              " ('او', 0.7819945812225342),\n",
              " ('کہوٹہ', 0.7808095812797546),\n",
              " ('مصیبتوں', 0.7723274827003479),\n",
              " ('فقر', 0.743894100189209),\n",
              " ('صفحہ', 0.7369732856750488)]"
            ]
          },
          "metadata": {},
          "execution_count": 23
        }
      ]
    },
    {
      "cell_type": "code",
      "source": [
        "VOCAB_SIZE = len(model_word2vec.wv.key_to_index)\n",
        "DIMENSIONS = 128\n",
        "MAX_LEN = max([len(x) for x in df[\"tokens\"]])"
      ],
      "metadata": {
        "id": "H_st_tXyeIUv"
      },
      "execution_count": null,
      "outputs": []
    },
    {
      "cell_type": "code",
      "source": [
        "VOCAB_SIZE, DIMENSIONS, MAX_LEN"
      ],
      "metadata": {
        "colab": {
          "base_uri": "https://localhost:8080/"
        },
        "id": "l2f5T_kOesu-",
        "outputId": "410c544e-6029-484f-f6d0-bf931476183c"
      },
      "execution_count": null,
      "outputs": [
        {
          "output_type": "execute_result",
          "data": {
            "text/plain": [
              "(4604, 128, 35)"
            ]
          },
          "metadata": {},
          "execution_count": 25
        }
      ]
    },
    {
      "cell_type": "code",
      "source": [
        "from keras.preprocessing.text import Tokenizer\n",
        "token = Tokenizer()\n",
        "token.fit_on_texts(df[\"tokens\"])\n",
        "encoded = token.texts_to_sequences(df[\"tokens\"])"
      ],
      "metadata": {
        "id": "kAU35Ggleu5R"
      },
      "execution_count": null,
      "outputs": []
    },
    {
      "cell_type": "code",
      "source": [
        "words2vec_matrix = np.zeros((VOCAB_SIZE+1,DIMENSIONS))\n",
        "for word, index in token.word_index.items():\n",
        "    try:\n",
        "        words2vec_matrix[index] = model_word2vec.wv[word]\n",
        "    except:\n",
        "        print(index, word)"
      ],
      "metadata": {
        "id": "FZJnGwZuezB7"
      },
      "execution_count": null,
      "outputs": []
    },
    {
      "cell_type": "code",
      "source": [
        "import tensorflow as tf\n",
        "train_vectors = tf.keras.preprocessing.sequence.pad_sequences(encoded,padding='post',dtype=int)"
      ],
      "metadata": {
        "id": "XxDuJSB7e0nq"
      },
      "execution_count": null,
      "outputs": []
    },
    {
      "cell_type": "code",
      "source": [
        "train_label = df.Class"
      ],
      "metadata": {
        "id": "yS5YdBTFe3Oo"
      },
      "execution_count": null,
      "outputs": []
    },
    {
      "cell_type": "code",
      "source": [
        "type(train_label[0])"
      ],
      "metadata": {
        "colab": {
          "base_uri": "https://localhost:8080/"
        },
        "id": "VSQWcrvoe4ow",
        "outputId": "8ace9c68-e3d8-49ad-f4b1-5743060f5362"
      },
      "execution_count": null,
      "outputs": [
        {
          "output_type": "execute_result",
          "data": {
            "text/plain": [
              "numpy.int64"
            ]
          },
          "metadata": {},
          "execution_count": 30
        }
      ]
    },
    {
      "cell_type": "code",
      "source": [
        "(train_sentences,test_sentences, train_tags, test_tags) = train_test_split(train_vectors, train_label, test_size=0.2, shuffle = True)"
      ],
      "metadata": {
        "id": "xeLXZJV3e6Bz"
      },
      "execution_count": null,
      "outputs": []
    },
    {
      "cell_type": "code",
      "source": [
        "import tensorflow.keras.layers as Layers\n",
        "import tensorflow.keras.activations as Actications\n",
        "import tensorflow.keras.models as Models\n",
        "from tensorflow.keras.optimizers import Adam, Optimizer, SGD\n",
        "import tensorflow.keras.initializers as Init\n",
        "from tensorflow.keras import regularizers"
      ],
      "metadata": {
        "id": "5Tzit2eGe7qr"
      },
      "execution_count": null,
      "outputs": []
    },
    {
      "cell_type": "code",
      "source": [
        "model_bilstm = tf.keras.Sequential([\n",
        "    tf.keras.layers.Embedding(input_dim=len(words2vec_matrix),\n",
        "                            output_dim=DIMENSIONS,\n",
        "                            weights=[words2vec_matrix],\n",
        "                            input_length=MAX_LEN,\n",
        "                            trainable=False),\n",
        "    tf.keras.layers.Bidirectional(tf.keras.layers.LSTM(200, activation='tanh', dropout=0.3, recurrent_dropout=0.2, return_sequences=True)),\n",
        "    tf.keras.layers.Bidirectional(tf.keras.layers.LSTM(100, activation='tanh', dropout=0.3, recurrent_dropout=0.2)),\n",
        "    # tf.keras.layers.Dropout(0.7),\n",
        "    tf.keras.layers.Dense(1, activation='sigmoid')\n",
        "])\n",
        "\n",
        "model_bilstm.compile(loss='binary_crossentropy', optimizer='adam', metrics=['accuracy'])\n",
        "model_bilstm.summary()\n",
        "\n",
        "# model = Sequential([\n",
        "#     Embedding(input_dim=len(words2vec_matrix),\n",
        "#                             output_dim=128,\n",
        "#                             weights=[words2vec_matrix],\n",
        "#                             input_length=35,\n",
        "#                             trainable=False),\n",
        "#     GRU(200, dropout=0.3, activation='tanh', return_sequences=True),\n",
        "#     GRU(100, dropout=0.3, activation='tanh'),\n",
        "#     Dense(1,'sigmoid')\n",
        "# ])\n",
        "# model.compile(loss='binary_crossentropy', optimizer='adam', metrics=['Accuracy'])\n",
        "# print(model.summary())"
      ],
      "metadata": {
        "colab": {
          "base_uri": "https://localhost:8080/"
        },
        "id": "UV1G6kSKe9mr",
        "outputId": "cf773700-1cd8-4835-b212-7283598dc7a7"
      },
      "execution_count": null,
      "outputs": [
        {
          "output_type": "stream",
          "name": "stderr",
          "text": [
            "WARNING:tensorflow:Layer lstm will not use cuDNN kernels since it doesn't meet the criteria. It will use a generic GPU kernel as fallback when running on GPU.\n",
            "WARNING:tensorflow:Layer lstm will not use cuDNN kernels since it doesn't meet the criteria. It will use a generic GPU kernel as fallback when running on GPU.\n",
            "WARNING:tensorflow:Layer lstm will not use cuDNN kernels since it doesn't meet the criteria. It will use a generic GPU kernel as fallback when running on GPU.\n",
            "WARNING:tensorflow:Layer lstm_1 will not use cuDNN kernels since it doesn't meet the criteria. It will use a generic GPU kernel as fallback when running on GPU.\n",
            "WARNING:tensorflow:Layer lstm_1 will not use cuDNN kernels since it doesn't meet the criteria. It will use a generic GPU kernel as fallback when running on GPU.\n",
            "WARNING:tensorflow:Layer lstm_1 will not use cuDNN kernels since it doesn't meet the criteria. It will use a generic GPU kernel as fallback when running on GPU.\n"
          ]
        },
        {
          "output_type": "stream",
          "name": "stdout",
          "text": [
            "Model: \"sequential\"\n",
            "_________________________________________________________________\n",
            " Layer (type)                Output Shape              Param #   \n",
            "=================================================================\n",
            " embedding (Embedding)       (None, 35, 128)           589440    \n",
            "                                                                 \n",
            " bidirectional (Bidirectiona  (None, 35, 400)          526400    \n",
            " l)                                                              \n",
            "                                                                 \n",
            " bidirectional_1 (Bidirectio  (None, 200)              400800    \n",
            " nal)                                                            \n",
            "                                                                 \n",
            " dense (Dense)               (None, 1)                 201       \n",
            "                                                                 \n",
            "=================================================================\n",
            "Total params: 1,516,841\n",
            "Trainable params: 927,401\n",
            "Non-trainable params: 589,440\n",
            "_________________________________________________________________\n"
          ]
        }
      ]
    },
    {
      "cell_type": "code",
      "source": [
        "from keras.callbacks import EarlyStopping\n",
        "hist = model_bilstm.fit(train_sentences,train_tags,epochs=50,batch_size=64,verbose=2,validation_data=(test_sentences,test_tags), callbacks=EarlyStopping(monitor='val_loss', mode='min', verbose=1, patience=10))"
      ],
      "metadata": {
        "colab": {
          "base_uri": "https://localhost:8080/"
        },
        "id": "SarzAwOKrlTK",
        "outputId": "36cfdcd6-85a1-4687-822f-1a69d1fb5279"
      },
      "execution_count": null,
      "outputs": [
        {
          "output_type": "stream",
          "name": "stdout",
          "text": [
            "Epoch 1/50\n",
            "13/13 - 25s - loss: 0.6806 - accuracy: 0.5510 - val_loss: 0.6858 - val_accuracy: 0.5306 - 25s/epoch - 2s/step\n",
            "Epoch 2/50\n",
            "13/13 - 7s - loss: 0.6098 - accuracy: 0.6696 - val_loss: 0.6939 - val_accuracy: 0.5714 - 7s/epoch - 520ms/step\n",
            "Epoch 3/50\n",
            "13/13 - 9s - loss: 0.5799 - accuracy: 0.6607 - val_loss: 0.6924 - val_accuracy: 0.5816 - 9s/epoch - 689ms/step\n",
            "Epoch 4/50\n",
            "13/13 - 17s - loss: 0.5166 - accuracy: 0.7347 - val_loss: 0.7463 - val_accuracy: 0.5816 - 17s/epoch - 1s/step\n",
            "Epoch 5/50\n",
            "13/13 - 9s - loss: 0.4903 - accuracy: 0.7653 - val_loss: 0.8123 - val_accuracy: 0.5918 - 9s/epoch - 695ms/step\n",
            "Epoch 6/50\n",
            "13/13 - 8s - loss: 0.4402 - accuracy: 0.7921 - val_loss: 0.9151 - val_accuracy: 0.5816 - 8s/epoch - 592ms/step\n",
            "Epoch 7/50\n",
            "13/13 - 7s - loss: 0.3736 - accuracy: 0.8099 - val_loss: 0.8135 - val_accuracy: 0.5918 - 7s/epoch - 545ms/step\n",
            "Epoch 8/50\n",
            "13/13 - 8s - loss: 0.2900 - accuracy: 0.8750 - val_loss: 1.0308 - val_accuracy: 0.6071 - 8s/epoch - 647ms/step\n",
            "Epoch 9/50\n",
            "13/13 - 7s - loss: 0.2367 - accuracy: 0.8878 - val_loss: 1.0340 - val_accuracy: 0.5714 - 7s/epoch - 504ms/step\n",
            "Epoch 10/50\n",
            "13/13 - 9s - loss: 0.2405 - accuracy: 0.8865 - val_loss: 1.0699 - val_accuracy: 0.6276 - 9s/epoch - 665ms/step\n",
            "Epoch 11/50\n",
            "13/13 - 7s - loss: 0.1852 - accuracy: 0.9184 - val_loss: 1.2702 - val_accuracy: 0.5510 - 7s/epoch - 521ms/step\n",
            "Epoch 11: early stopping\n"
          ]
        }
      ]
    },
    {
      "cell_type": "code",
      "source": [
        "test_pred = model_bilstm.predict(test_sentences)\n",
        "y_prediction = list()\n",
        "a=0\n",
        "b=1\n",
        "for val in test_pred:\n",
        "  if val < 0.5:\n",
        "    y_prediction.append(a)\n",
        "  else:\n",
        "    y_prediction.append(b)\n",
        "\n",
        "class_report = classification_report(y_prediction, test_tags)\n",
        "conf_matrix = confusion_matrix(y_prediction , test_tags)\n",
        "\n",
        "print('\\n \\t\\tResults of GRU')\n",
        "print(\"\\n--- CLASSIFICATION REPORT\\n\",class_report, \"\\n --- CONFUSION MATRIX\\n\",conf_matrix)"
      ],
      "metadata": {
        "colab": {
          "base_uri": "https://localhost:8080/"
        },
        "id": "jBm6tj5cxasB",
        "outputId": "7cd2cf6c-4ad1-4e61-b167-e8ab5c8530cf"
      },
      "execution_count": null,
      "outputs": [
        {
          "output_type": "stream",
          "name": "stdout",
          "text": [
            "7/7 [==============================] - 1s 43ms/step\n",
            "\n",
            " \t\tResults of GRU\n",
            "\n",
            "--- CLASSIFICATION REPORT\n",
            "               precision    recall  f1-score   support\n",
            "\n",
            "           0       0.51      0.60      0.56        91\n",
            "           1       0.60      0.50      0.55       105\n",
            "\n",
            "    accuracy                           0.55       196\n",
            "   macro avg       0.55      0.55      0.55       196\n",
            "weighted avg       0.56      0.55      0.55       196\n",
            " \n",
            " --- CONFUSION MATRIX\n",
            " [[55 36]\n",
            " [52 53]]\n"
          ]
        }
      ]
    },
    {
      "cell_type": "code",
      "source": [
        "# Define the figure and axes objects\n",
        "fig, axes = plt.subplots(nrows=1, ncols=2, figsize=(14, 4))\n",
        "\n",
        "# Plot the first graph on the left axis\n",
        "axes[0].plot(hist.history['accuracy'])\n",
        "axes[0].plot(hist.history['val_accuracy'])\n",
        "axes[0].set_title('Model Accuracy')\n",
        "axes[0].set_xlabel('Epoch')\n",
        "axes[0].set_ylabel('Accuracy')\n",
        "axes[0].legend(['Train', 'Val'])\n",
        "\n",
        "# Plot the second graph on the right axis\n",
        "axes[1].plot(hist.history['loss'])\n",
        "axes[1].plot(hist.history['val_loss'])\n",
        "axes[1].set_title('Model Loss')\n",
        "axes[1].set_xlabel('Epoch')\n",
        "axes[1].set_ylabel('Loss')\n",
        "axes[1].legend(['Train', 'Val'])\n",
        "\n",
        "# Display the plot\n",
        "plt.show()"
      ],
      "metadata": {
        "colab": {
          "base_uri": "https://localhost:8080/",
          "height": 410
        },
        "id": "DdhTs5_hq_bl",
        "outputId": "50c8ab3e-34a2-41f4-93f1-0556454c5a74"
      },
      "execution_count": null,
      "outputs": [
        {
          "output_type": "display_data",
          "data": {
            "text/plain": [
              "<Figure size 1400x400 with 2 Axes>"
            ],
            "image/png": "[encoded data removed]"
          },
          "metadata": {}
        }
      ]
    },
    {
      "cell_type": "markdown",
      "source": [
        "# FastText"
      ],
      "metadata": {
        "id": "VKvLhzDHqUDh"
      }
    },
    {
      "cell_type": "code",
      "source": [
        "from gensim.models import FastText\n",
        "model_fastext = FastText(sentences=df[\"tokens\"], vector_size=128, window=5, workers=10, min_count=1)"
      ],
      "metadata": {
        "id": "iXS4nN8SfHMk"
      },
      "execution_count": null,
      "outputs": []
    },
    {
      "cell_type": "code",
      "source": [
        "model_fastext.train(df[\"tokens\"], total_examples= len(df[\"tokens\"]), epochs=150)"
      ],
      "metadata": {
        "colab": {
          "base_uri": "https://localhost:8080/"
        },
        "id": "SjhUTXXBd_KU",
        "outputId": "5e494eef-23cf-4b45-c3e7-30df762eb6db"
      },
      "execution_count": null,
      "outputs": [
        {
          "output_type": "stream",
          "name": "stderr",
          "text": [
            "WARNING:gensim.models.word2vec:Effective 'alpha' higher than previous training cycles\n"
          ]
        },
        {
          "output_type": "execute_result",
          "data": {
            "text/plain": [
              "(2101674, 2496000)"
            ]
          },
          "metadata": {},
          "execution_count": 40
        }
      ]
    },
    {
      "cell_type": "code",
      "source": [
        "model_fastext.wv.most_similar('زبان')"
      ],
      "metadata": {
        "colab": {
          "base_uri": "https://localhost:8080/"
        },
        "id": "nrsTH-MUeCYc",
        "outputId": "81b9e165-e2a9-4a40-9183-28145b6b2de3"
      },
      "execution_count": null,
      "outputs": [
        {
          "output_type": "execute_result",
          "data": {
            "text/plain": [
              "[('میزبان', 0.8737021088600159),\n",
              " ('سنسان', 0.8591155409812927),\n",
              " ('ہان', 0.8394685983657837),\n",
              " ('جہان', 0.8371821641921997),\n",
              " ('شیطان', 0.8355795741081238),\n",
              " ('ڈان', 0.8309608697891235),\n",
              " ('ان', 0.8292749524116516),\n",
              " ('سبحان', 0.8288838267326355),\n",
              " ('لسان', 0.8252147436141968),\n",
              " ('بزرگان', 0.8168450593948364)]"
            ]
          },
          "metadata": {},
          "execution_count": 41
        }
      ]
    },
    {
      "cell_type": "code",
      "source": [
        "model_fastext.wv.most_similar(\"قاتل\")"
      ],
      "metadata": {
        "colab": {
          "base_uri": "https://localhost:8080/"
        },
        "id": "Qc1Vih_MeIPi",
        "outputId": "d9419019-bee6-444a-bcb1-b9ac666fc757"
      },
      "execution_count": null,
      "outputs": [
        {
          "output_type": "execute_result",
          "data": {
            "text/plain": [
              "[('گوگل', 0.7318695187568665),\n",
              " ('گوگو', 0.7051239609718323),\n",
              " ('غافل', 0.7041675448417664),\n",
              " ('گھمن', 0.7033051252365112),\n",
              " ('تباہ', 0.6965556144714355),\n",
              " ('ویلکمجی', 0.6963640451431274),\n",
              " ('ک', 0.6963223218917847),\n",
              " ('ویلفیئر', 0.6913543939590454),\n",
              " ('قائل', 0.6904496550559998),\n",
              " ('سلوک', 0.6880623698234558)]"
            ]
          },
          "metadata": {},
          "execution_count": 42
        }
      ]
    },
    {
      "cell_type": "code",
      "source": [
        "model_fastext.wv.most_similar(\"بمب\")"
      ],
      "metadata": {
        "colab": {
          "base_uri": "https://localhost:8080/"
        },
        "id": "9b5UTxnxlwnK",
        "outputId": "ac052a7a-c61a-4ba0-ff5d-1918650af127"
      },
      "execution_count": null,
      "outputs": [
        {
          "output_type": "execute_result",
          "data": {
            "text/plain": [
              "[('بم', 0.8849321007728577),\n",
              " ('بنتاایٹم', 0.8510225415229797),\n",
              " ('لکھپت', 0.7997567057609558),\n",
              " ('ایٹم', 0.7899001240730286),\n",
              " ('او', 0.7322729229927063),\n",
              " ('اتفاق', 0.6797533631324768),\n",
              " ('وی', 0.6740456819534302),\n",
              " ('آیی', 0.6719011664390564),\n",
              " ('لفافہ', 0.6686913967132568),\n",
              " ('اورمکرتی', 0.6610715985298157)]"
            ]
          },
          "metadata": {},
          "execution_count": 43
        }
      ]
    },
    {
      "cell_type": "code",
      "source": [
        "VOCAB_SIZE = len(model_fastext.wv.key_to_index)\n",
        "DIMENSIONS = 128\n",
        "MAX_LEN = max([len(x) for x in df[\"tokens\"]])"
      ],
      "metadata": {
        "id": "C90QfIh7l2Qk"
      },
      "execution_count": null,
      "outputs": []
    },
    {
      "cell_type": "code",
      "source": [
        "VOCAB_SIZE, DIMENSIONS, MAX_LEN"
      ],
      "metadata": {
        "colab": {
          "base_uri": "https://localhost:8080/"
        },
        "id": "PGuVavAumHzR",
        "outputId": "1ea0eed4-e9d5-445b-d138-bbdbbb4c2e9b"
      },
      "execution_count": null,
      "outputs": [
        {
          "output_type": "execute_result",
          "data": {
            "text/plain": [
              "(4604, 128, 35)"
            ]
          },
          "metadata": {},
          "execution_count": 45
        }
      ]
    },
    {
      "cell_type": "code",
      "source": [
        "from keras.preprocessing.text import Tokenizer\n",
        "token = Tokenizer()\n",
        "token.fit_on_texts(df[\"tokens\"])\n",
        "encoded = token.texts_to_sequences(df[\"tokens\"])"
      ],
      "metadata": {
        "id": "HB02XauKmZ2V"
      },
      "execution_count": null,
      "outputs": []
    },
    {
      "cell_type": "code",
      "source": [
        "fasttext_matrix = np.zeros((VOCAB_SIZE+1,DIMENSIONS))\n",
        "for word, index in token.word_index.items():\n",
        "    try:\n",
        "        fasttext_matrix[index] = model_fastext.wv[word]\n",
        "    except:\n",
        "        print(index, word)"
      ],
      "metadata": {
        "id": "R5N8lkF9maTg"
      },
      "execution_count": null,
      "outputs": []
    },
    {
      "cell_type": "code",
      "source": [
        "import tensorflow as tf\n",
        "train_vectors = tf.keras.preprocessing.sequence.pad_sequences(encoded,padding='post',dtype=int)"
      ],
      "metadata": {
        "id": "vI52sXg3mm5A"
      },
      "execution_count": null,
      "outputs": []
    },
    {
      "cell_type": "code",
      "source": [
        "train_label = df.Class\n",
        "type(train_label[0])"
      ],
      "metadata": {
        "colab": {
          "base_uri": "https://localhost:8080/"
        },
        "id": "Q592nSl3mo57",
        "outputId": "178d731a-af2e-4d51-ca24-3f86b2e48c96"
      },
      "execution_count": null,
      "outputs": [
        {
          "output_type": "execute_result",
          "data": {
            "text/plain": [
              "numpy.int64"
            ]
          },
          "metadata": {},
          "execution_count": 49
        }
      ]
    },
    {
      "cell_type": "code",
      "source": [
        "(train_sentences,test_sentences, train_tags, test_tags) = train_test_split(train_vectors, train_label, test_size=0.2, shuffle = True)"
      ],
      "metadata": {
        "id": "jlf0HVD1mr9J"
      },
      "execution_count": null,
      "outputs": []
    },
    {
      "cell_type": "code",
      "source": [
        "import tensorflow.keras.layers as Layers\n",
        "import tensorflow.keras.activations as Actications\n",
        "import tensorflow.keras.models as Models\n",
        "from tensorflow.keras.optimizers import Adam, Optimizer, SGD\n",
        "import tensorflow.keras.initializers as Init\n",
        "from tensorflow.keras import regularizers"
      ],
      "metadata": {
        "id": "2epVh6UjmusA"
      },
      "execution_count": null,
      "outputs": []
    },
    {
      "cell_type": "code",
      "source": [
        "model_bilstm = tf.keras.Sequential([\n",
        "    tf.keras.layers.Embedding(input_dim=len(fasttext_matrix),\n",
        "                            output_dim=DIMENSIONS,\n",
        "                            weights=[fasttext_matrix],\n",
        "                            input_length=MAX_LEN,\n",
        "                            trainable=False),\n",
        "    tf.keras.layers.Bidirectional(tf.keras.layers.LSTM(200, activation='tanh', dropout=0.3, recurrent_dropout=0.2, return_sequences=True)),\n",
        "    tf.keras.layers.Bidirectional(tf.keras.layers.LSTM(100, activation='tanh', dropout=0.3, recurrent_dropout=0.2)),\n",
        "    # tf.keras.layers.Dropout(0.7),\n",
        "    tf.keras.layers.Dense(1, activation='sigmoid')\n",
        "])\n",
        "\n",
        "model_bilstm.compile(loss='binary_crossentropy', optimizer='adam', metrics=['accuracy'])\n",
        "model_bilstm.summary()"
      ],
      "metadata": {
        "colab": {
          "base_uri": "https://localhost:8080/"
        },
        "id": "_5JeE_SaDIFf",
        "outputId": "2a3a0ebd-5754-423c-f5e0-a7d98e41a741"
      },
      "execution_count": null,
      "outputs": [
        {
          "output_type": "stream",
          "name": "stderr",
          "text": [
            "WARNING:tensorflow:Layer lstm_2 will not use cuDNN kernels since it doesn't meet the criteria. It will use a generic GPU kernel as fallback when running on GPU.\n",
            "WARNING:tensorflow:Layer lstm_2 will not use cuDNN kernels since it doesn't meet the criteria. It will use a generic GPU kernel as fallback when running on GPU.\n",
            "WARNING:tensorflow:Layer lstm_2 will not use cuDNN kernels since it doesn't meet the criteria. It will use a generic GPU kernel as fallback when running on GPU.\n",
            "WARNING:tensorflow:Layer lstm_3 will not use cuDNN kernels since it doesn't meet the criteria. It will use a generic GPU kernel as fallback when running on GPU.\n",
            "WARNING:tensorflow:Layer lstm_3 will not use cuDNN kernels since it doesn't meet the criteria. It will use a generic GPU kernel as fallback when running on GPU.\n",
            "WARNING:tensorflow:Layer lstm_3 will not use cuDNN kernels since it doesn't meet the criteria. It will use a generic GPU kernel as fallback when running on GPU.\n"
          ]
        },
        {
          "output_type": "stream",
          "name": "stdout",
          "text": [
            "Model: \"sequential_1\"\n",
            "_________________________________________________________________\n",
            " Layer (type)                Output Shape              Param #   \n",
            "=================================================================\n",
            " embedding_1 (Embedding)     (None, 35, 128)           589440    \n",
            "                                                                 \n",
            " bidirectional_2 (Bidirectio  (None, 35, 400)          526400    \n",
            " nal)                                                            \n",
            "                                                                 \n",
            " bidirectional_3 (Bidirectio  (None, 200)              400800    \n",
            " nal)                                                            \n",
            "                                                                 \n",
            " dense_1 (Dense)             (None, 1)                 201       \n",
            "                                                                 \n",
            "=================================================================\n",
            "Total params: 1,516,841\n",
            "Trainable params: 927,401\n",
            "Non-trainable params: 589,440\n",
            "_________________________________________________________________\n"
          ]
        }
      ]
    },
    {
      "cell_type": "code",
      "source": [
        "from keras.callbacks import EarlyStopping\n",
        "hist = model_bilstm.fit(train_sentences,train_tags,epochs=50,batch_size=64,verbose=2,validation_data=(test_sentences,test_tags), callbacks=EarlyStopping(monitor='val_loss', mode='min', verbose=1, patience=10))"
      ],
      "metadata": {
        "colab": {
          "base_uri": "https://localhost:8080/"
        },
        "id": "5v86aSeR4ib2",
        "outputId": "8b173704-9996-4747-bc5b-638e950c6133"
      },
      "execution_count": null,
      "outputs": [
        {
          "output_type": "stream",
          "name": "stdout",
          "text": [
            "Epoch 1/50\n",
            "13/13 - 20s - loss: 0.6798 - accuracy: 0.5485 - val_loss: 0.6689 - val_accuracy: 0.5918 - 20s/epoch - 2s/step\n",
            "Epoch 2/50\n",
            "13/13 - 7s - loss: 0.6174 - accuracy: 0.6569 - val_loss: 0.6782 - val_accuracy: 0.5663 - 7s/epoch - 528ms/step\n",
            "Epoch 3/50\n",
            "13/13 - 8s - loss: 0.5687 - accuracy: 0.7054 - val_loss: 0.6807 - val_accuracy: 0.5969 - 8s/epoch - 654ms/step\n",
            "Epoch 4/50\n",
            "13/13 - 8s - loss: 0.5333 - accuracy: 0.7130 - val_loss: 0.7124 - val_accuracy: 0.5867 - 8s/epoch - 596ms/step\n",
            "Epoch 5/50\n",
            "13/13 - 7s - loss: 0.4825 - accuracy: 0.7449 - val_loss: 0.7259 - val_accuracy: 0.6122 - 7s/epoch - 566ms/step\n",
            "Epoch 6/50\n",
            "13/13 - 8s - loss: 0.4605 - accuracy: 0.7730 - val_loss: 0.7082 - val_accuracy: 0.6071 - 8s/epoch - 648ms/step\n",
            "Epoch 7/50\n",
            "13/13 - 7s - loss: 0.3991 - accuracy: 0.8202 - val_loss: 0.8717 - val_accuracy: 0.5714 - 7s/epoch - 506ms/step\n",
            "Epoch 8/50\n",
            "13/13 - 9s - loss: 0.3449 - accuracy: 0.8444 - val_loss: 0.8078 - val_accuracy: 0.6276 - 9s/epoch - 663ms/step\n",
            "Epoch 9/50\n",
            "13/13 - 9s - loss: 0.2655 - accuracy: 0.8852 - val_loss: 0.9014 - val_accuracy: 0.5816 - 9s/epoch - 664ms/step\n",
            "Epoch 10/50\n",
            "13/13 - 7s - loss: 0.2173 - accuracy: 0.9069 - val_loss: 0.9706 - val_accuracy: 0.6327 - 7s/epoch - 520ms/step\n",
            "Epoch 11/50\n",
            "13/13 - 8s - loss: 0.1741 - accuracy: 0.9209 - val_loss: 0.9790 - val_accuracy: 0.6224 - 8s/epoch - 634ms/step\n",
            "Epoch 11: early stopping\n"
          ]
        }
      ]
    },
    {
      "cell_type": "code",
      "source": [
        "test_pred = model_bilstm.predict(test_sentences)\n",
        "y_prediction = list()\n",
        "a=0\n",
        "b=1\n",
        "for val in test_pred:\n",
        "  if val < 0.5:\n",
        "    y_prediction.append(a)\n",
        "  else:\n",
        "    y_prediction.append(b)\n",
        "\n",
        "from sklearn.metrics import accuracy_score, precision_score, recall_score, f1_score\n",
        "\n",
        "# Calculate accuracy\n",
        "accuracy = accuracy_score(test_tags, y_prediction)\n",
        "# Calculate precision\n",
        "precision = precision_score(test_tags, y_prediction)\n",
        "# Calculate recall\n",
        "recall = recall_score(test_tags, y_prediction)\n",
        "# Calculate F-score\n",
        "f_score = f1_score(test_tags, y_prediction)\n",
        "\n",
        "print(\"\\n\\t\\t\\t\\t\\t\\t\\tEVALUATION MEASURES RESULTS\")\n",
        "print(\"\\t\\t\\t\\t\\t\\t\",\"_\"*40)\n",
        "print(\"\\nAccuracy:\", accuracy, \"     |\\t\", \"Precision:\", precision, \"     |\\t\", \"Recall:\", recall, \"    |\\t\", \"F-score:\", f_score,\"\\n\")"
      ],
      "metadata": {
        "colab": {
          "base_uri": "https://localhost:8080/"
        },
        "id": "KUDGh9hLI-N4",
        "outputId": "235d031b-6d6a-4900-818a-934aba82849a"
      },
      "execution_count": null,
      "outputs": [
        {
          "output_type": "stream",
          "name": "stdout",
          "text": [
            "7/7 [==============================] - 0s 42ms/step\n",
            "\n",
            "\t\t\t\t\t\t\tEVALUATION MEASURES RESULTS\n",
            "\t\t\t\t\t\t ________________________________________\n",
            "\n",
            "Accuracy: 0.6224489795918368      |\t Precision: 0.654320987654321      |\t Recall: 0.5353535353535354     |\t F-score: 0.5888888888888889 \n",
            "\n"
          ]
        }
      ]
    },
    {
      "cell_type": "code",
      "source": [
        "# Define the figure and axes objects\n",
        "fig, axes = plt.subplots(nrows=2, ncols=2, figsize=(12, 8))\n",
        "\n",
        "# Plot the first graph on the top-left axis\n",
        "axes[0, 0].plot(hist.history['accuracy'])\n",
        "axes[0, 0].set_title('Traning Accuracy')\n",
        "axes[0, 0].set_xlabel('Epoch')\n",
        "axes[0, 0].set_ylabel('Accuracy')\n",
        "axes[0, 0].legend(['Train', 'Test'], loc='upper left')\n",
        "\n",
        "# Plot the second graph on the top-right axis\n",
        "axes[0, 1].plot(hist.history['loss'])\n",
        "axes[0, 1].set_title('Training Loss')\n",
        "axes[0, 1].set_xlabel('Epoch')\n",
        "axes[0, 1].set_ylabel('Val_Loss')\n",
        "axes[0, 1].legend(['Train', 'Test'], loc='upper left')\n",
        "\n",
        "# Plot the third graph on the bottom-left axis\n",
        "axes[1, 0].plot(hist.history['val_accuracy'])\n",
        "axes[1, 0].set_title('Validation Accuracy')\n",
        "axes[1, 0].set_xlabel('Epoch')\n",
        "axes[1, 0].set_ylabel('Accuracy')\n",
        "axes[1, 0].legend(['Train', 'Test'], loc='upper left')\n",
        "\n",
        "# Plot the fourth graph on the bottom-right axis\n",
        "axes[1, 1].plot(hist.history['val_loss'])\n",
        "axes[1, 1].set_title('Validation Loss')\n",
        "axes[1, 1].set_xlabel('Epoch')\n",
        "axes[1, 1].set_ylabel('Loss')\n",
        "axes[1, 1].legend(['Train', 'Test'], loc='upper left')\n",
        "\n",
        "# Adjust the spacing between subplots\n",
        "plt.tight_layout()\n",
        "\n",
        "# Display the plot\n",
        "plt.show()"
      ],
      "metadata": {
        "colab": {
          "base_uri": "https://localhost:8080/",
          "height": 807
        },
        "id": "mA0kFxvQnwzM",
        "outputId": "926bb0b3-52b7-4090-c090-10993c9bee3f"
      },
      "execution_count": null,
      "outputs": [
        {
          "output_type": "display_data",
          "data": {
            "text/plain": [
              "<Figure size 1200x800 with 4 Axes>"
            ],
            "image/png": "[encoded data removed]"
          },
          "metadata": {}
        }
      ]
    }
  ]
}