{
  "nbformat": 4,
  "nbformat_minor": 0,
  "metadata": {
    "colab": {
      "provenance": [],
      "authorship_tag": "ABX9TyOx0YnoeCmkrHQ//I3SYFD7",
      "include_colab_link": true
    },
    "kernelspec": {
      "name": "python3",
      "display_name": "Python 3"
    },
    "language_info": {
      "name": "python"
    }
  },
  "cells": [
    {
      "cell_type": "markdown",
      "metadata": {
        "id": "view-in-github",
        "colab_type": "text"
      },
      "source": [
        "<a href=\"https://colab.research.google.com/github/asifahsaan/NLP-Natural-Language-Processing-/blob/main/Named_Entity_Recognition_(NER)_Spacy.ipynb\" target=\"_parent\"><img src=\"https://colab.research.google.com/assets/colab-badge.svg\" alt=\"Open In Colab\"/></a>"
      ]
    },
    {
      "cell_type": "markdown",
      "source": [
        "## **NAMED ENTITY RECOGNITION (NER) with Spacy**"
      ],
      "metadata": {
        "id": "v40oJgP-YEeh"
      }
    },
    {
      "cell_type": "code",
      "execution_count": 3,
      "metadata": {
        "id": "6a7UJ7QMSnwf"
      },
      "outputs": [],
      "source": [
        "import spacy\n",
        "\n",
        "textModel  = spacy.load(\"en_core_web_sm\")"
      ]
    },
    {
      "cell_type": "code",
      "source": [
        "textModel.pipe_names"
      ],
      "metadata": {
        "colab": {
          "base_uri": "https://localhost:8080/"
        },
        "id": "-0vxUEMVStdR",
        "outputId": "74515655-f5d3-4ff3-d5b8-96463b6c2bbd"
      },
      "execution_count": 4,
      "outputs": [
        {
          "output_type": "execute_result",
          "data": {
            "text/plain": [
              "['tok2vec', 'tagger', 'parser', 'attribute_ruler', 'lemmatizer', 'ner']"
            ]
          },
          "metadata": {},
          "execution_count": 4
        }
      ]
    },
    {
      "cell_type": "code",
      "source": [
        "doc = textModel(\"NextBridge Inc in the new trending company in Pakistan that has more than 600 employees and earning $10 Million\")\n",
        "\n",
        "for ent in doc.ents:\n",
        "  print(ent.text, \"|\", ent.label_, \"|\", spacy.explain(ent.label_))"
      ],
      "metadata": {
        "colab": {
          "base_uri": "https://localhost:8080/"
        },
        "id": "PC3nJHhzS1mI",
        "outputId": "907445d9-029b-4a86-b6cc-e1979b1b70e3"
      },
      "execution_count": 6,
      "outputs": [
        {
          "output_type": "stream",
          "name": "stdout",
          "text": [
            "NextBridge Inc | ORG | Companies, agencies, institutions, etc.\n",
            "Pakistan | GPE | Countries, cities, states\n",
            "more than 600 | CARDINAL | Numerals that do not fall under another type\n",
            "$10 Million | MONEY | Monetary values, including unit\n"
          ]
        }
      ]
    },
    {
      "cell_type": "markdown",
      "source": [
        "### **Visual representation of NER**"
      ],
      "metadata": {
        "id": "KFTn7QHLXcYc"
      }
    },
    {
      "cell_type": "code",
      "source": [
        "from spacy import displacy\n",
        "displacy.render(doc, style=\"ent\")"
      ],
      "metadata": {
        "id": "9KCFLWaqTYYc"
      },
      "execution_count": null,
      "outputs": []
    },
    {
      "cell_type": "markdown",
      "source": [
        "<div class=\"entities\" style=\"line-height: 2.5; direction: ltr\">\n",
        "<mark class=\"entity\" style=\"background: #7aecec; padding: 0.45em 0.6em; margin: 0 0.25em; line-height: 1; border-radius: 0.35em;\">\n",
        "    NextBridge Inc\n",
        "    <span style=\"font-size: 0.8em; font-weight: bold; line-height: 1; border-radius: 0.35em; vertical-align: middle; margin-left: 0.5rem\">ORG</span>\n",
        "</mark>\n",
        " in the new trending company in\n",
        "<mark class=\"entity\" style=\"background: #feca74; padding: 0.45em 0.6em; margin: 0 0.25em; line-height: 1; border-radius: 0.35em;\">\n",
        "    Pakistan\n",
        "    <span style=\"font-size: 0.8em; font-weight: bold; line-height: 1; border-radius: 0.35em; vertical-align: middle; margin-left: 0.5rem\">GPE</span>\n",
        "</mark>\n",
        " that has\n",
        "<mark class=\"entity\" style=\"background: #e4e7d2; padding: 0.45em 0.6em; margin: 0 0.25em; line-height: 1; border-radius: 0.35em;\">\n",
        "    more than 600\n",
        "    <span style=\"font-size: 0.8em; font-weight: bold; line-height: 1; border-radius: 0.35em; vertical-align: middle; margin-left: 0.5rem\">CARDINAL</span>\n",
        "</mark>\n",
        " employees and earning\n",
        "<mark class=\"entity\" style=\"background: #e4e7d2; padding: 0.45em 0.6em; margin: 0 0.25em; line-height: 1; border-radius: 0.35em;\">\n",
        "    $10 Million\n",
        "    <span style=\"font-size: 0.8em; font-weight: bold; line-height: 1; border-radius: 0.35em; vertical-align: middle; margin-left: 0.5rem\">MONEY</span>\n",
        "</mark>\n",
        "</div>"
      ],
      "metadata": {
        "id": "lNdVNu6IT0iV"
      }
    },
    {
      "cell_type": "markdown",
      "source": [
        "### **NER Functionalities of Spacy**"
      ],
      "metadata": {
        "id": "n0dTKg5eX6Cw"
      }
    },
    {
      "cell_type": "markdown",
      "source": [
        "*Check which NER functionalities Spacy provide*"
      ],
      "metadata": {
        "id": "lxMCmnE1UDD1"
      }
    },
    {
      "cell_type": "code",
      "source": [
        "textModel.pipe_labels['ner']"
      ],
      "metadata": {
        "colab": {
          "base_uri": "https://localhost:8080/"
        },
        "id": "vLXA1XXSTq0E",
        "outputId": "50cc1902-a0f7-424d-e561-c45a9f780e39"
      },
      "execution_count": 8,
      "outputs": [
        {
          "output_type": "execute_result",
          "data": {
            "text/plain": [
              "['CARDINAL',\n",
              " 'DATE',\n",
              " 'EVENT',\n",
              " 'FAC',\n",
              " 'GPE',\n",
              " 'LANGUAGE',\n",
              " 'LAW',\n",
              " 'LOC',\n",
              " 'MONEY',\n",
              " 'NORP',\n",
              " 'ORDINAL',\n",
              " 'ORG',\n",
              " 'PERCENT',\n",
              " 'PERSON',\n",
              " 'PRODUCT',\n",
              " 'QUANTITY',\n",
              " 'TIME',\n",
              " 'WORK_OF_ART']"
            ]
          },
          "metadata": {},
          "execution_count": 8
        }
      ]
    },
    {
      "cell_type": "markdown",
      "source": [
        "### ***Issue in SPACY NER***"
      ],
      "metadata": {
        "id": "Y6QEBCnyXmoP"
      }
    },
    {
      "cell_type": "code",
      "source": [
        "doc = textModel(\"Michael Bloomberg founded Bloomberg in 1982\")\n",
        "\n",
        "for ent in doc.ents:\n",
        "  print(ent.text, \"|\", ent.label_, \"|\", spacy.explain(ent.label_))"
      ],
      "metadata": {
        "colab": {
          "base_uri": "https://localhost:8080/"
        },
        "id": "6Tn3MhDZUBjK",
        "outputId": "91461e96-71e9-4588-b824-b75293238f78"
      },
      "execution_count": 11,
      "outputs": [
        {
          "output_type": "stream",
          "name": "stdout",
          "text": [
            "Michael Bloomberg | PERSON | People, including fictional\n",
            "Bloomberg | PERSON | People, including fictional\n",
            "1982 | DATE | Absolute or relative dates or periods\n"
          ]
        }
      ]
    },
    {
      "cell_type": "markdown",
      "source": [
        "See, Spacy doesn't work so well yet, Because it predict Bloomberg as PERSON, althogh it is a COMPANY. Spacy use some sort of RULES to indentify the things. Let's try to add Inc with Company."
      ],
      "metadata": {
        "id": "xf73YxEiUa48"
      }
    },
    {
      "cell_type": "markdown",
      "source": [
        "### ***Rule based Small Solution***"
      ],
      "metadata": {
        "id": "SyY2kD0hXvpg"
      }
    },
    {
      "cell_type": "code",
      "source": [
        "doc = textModel(\"Michael Bloomberg founded Bloomberg Inc in 1982\")\n",
        "\n",
        "for ent in doc.ents:\n",
        "  print(ent.text, \"|\", ent.label_, \"|\", spacy.explain(ent.label_))"
      ],
      "metadata": {
        "colab": {
          "base_uri": "https://localhost:8080/"
        },
        "id": "m0ub5xkvUY58",
        "outputId": "0baf5265-336b-4dd4-8a44-74a791595234"
      },
      "execution_count": 12,
      "outputs": [
        {
          "output_type": "stream",
          "name": "stdout",
          "text": [
            "Michael Bloomberg | PERSON | People, including fictional\n",
            "Bloomberg Inc | ORG | Companies, agencies, institutions, etc.\n",
            "1982 | DATE | Absolute or relative dates or periods\n"
          ]
        }
      ]
    },
    {
      "cell_type": "markdown",
      "source": [
        "It has predicted the Bloomberg as Company now. In the same way if a company's name isn't starting with Capital letter it won't understand it as company, let's see."
      ],
      "metadata": {
        "id": "pK2Y2r49U0_P"
      }
    },
    {
      "cell_type": "code",
      "source": [
        "doc = textModel(\"Michael Bloomberg founded bloomberg in 1982\")\n",
        "\n",
        "for ent in doc.ents:\n",
        "  print(ent.text, \"|\", ent.label_, \"|\", spacy.explain(ent.label_))"
      ],
      "metadata": {
        "colab": {
          "base_uri": "https://localhost:8080/"
        },
        "id": "mvYTfl4-UzVe",
        "outputId": "397808af-9c5c-4d2d-88a0-bd15aefaad72"
      },
      "execution_count": 14,
      "outputs": [
        {
          "output_type": "stream",
          "name": "stdout",
          "text": [
            "Michael Bloomberg | PERSON | People, including fictional\n",
            "1982 | DATE | Absolute or relative dates or periods\n"
          ]
        }
      ]
    },
    {
      "cell_type": "markdown",
      "source": [
        "So what that means is, Inc is really important to add next to the company if you want to be recognized it as company. Regardless of Initial in Capital or not, See below."
      ],
      "metadata": {
        "id": "mNUVQ1NEVGR_"
      }
    },
    {
      "cell_type": "code",
      "source": [
        "doc = textModel(\"Michael Bloomberg founded bloomberg Inc in 1982\")\n",
        "\n",
        "for ent in doc.ents:\n",
        "  print(ent.text, \"|\", ent.label_, \"|\", spacy.explain(ent.label_))"
      ],
      "metadata": {
        "colab": {
          "base_uri": "https://localhost:8080/"
        },
        "id": "87nTQnuHVRKJ",
        "outputId": "3d9d93f8-1c14-4740-c5ad-4f7f071f4fd6"
      },
      "execution_count": 15,
      "outputs": [
        {
          "output_type": "stream",
          "name": "stdout",
          "text": [
            "Michael Bloomberg | PERSON | People, including fictional\n",
            "bloomberg Inc | ORG | Companies, agencies, institutions, etc.\n",
            "1982 | DATE | Absolute or relative dates or periods\n"
          ]
        }
      ]
    },
    {
      "cell_type": "markdown",
      "source": [
        "## **Custom Training the Model**"
      ],
      "metadata": {
        "id": "BtzT8rbVVVQ-"
      }
    },
    {
      "cell_type": "code",
      "source": [
        "doc = textModel(\"Tesla is going to acquire Twitter for $45 Billion\")\n",
        "\n",
        "for ent in doc.ents:\n",
        "  print(ent.text, \"|\", ent.label_, \"|\", spacy.explain(ent.label_))"
      ],
      "metadata": {
        "colab": {
          "base_uri": "https://localhost:8080/"
        },
        "id": "FqtnscDoVDRv",
        "outputId": "8ba3c152-525d-404b-dca2-08b30b80ea98"
      },
      "execution_count": 16,
      "outputs": [
        {
          "output_type": "stream",
          "name": "stdout",
          "text": [
            "Tesla | ORG | Companies, agencies, institutions, etc.\n",
            "Twitter | PRODUCT | Objects, vehicles, foods, etc. (not services)\n",
            "$45 Billion | MONEY | Monetary values, including unit\n"
          ]
        }
      ]
    },
    {
      "cell_type": "code",
      "source": [
        "doc = textModel(\"Asif is going to acquire neflogix for $5 Billion\")\n",
        "\n",
        "for ent in doc.ents:\n",
        "  print(ent.text, \"|\", ent.label_, \"|\", spacy.explain(ent.label_))"
      ],
      "metadata": {
        "colab": {
          "base_uri": "https://localhost:8080/"
        },
        "id": "ugjTGhX3Vhs4",
        "outputId": "a11fa547-7d05-474e-f56a-7c20ef9e6571"
      },
      "execution_count": 32,
      "outputs": [
        {
          "output_type": "stream",
          "name": "stdout",
          "text": [
            "neflogix | CARDINAL | Numerals that do not fall under another type\n",
            "$5 Billion | MONEY | Monetary values, including unit\n"
          ]
        }
      ]
    },
    {
      "cell_type": "markdown",
      "source": [
        "As we can see, Asif isn't recognized and Neflogix predicted wrong, because it's a company but it doesn't know and we don't want to use Inc.\n",
        "\n",
        "***To do that we will use the SPAN tokens for Spacy to add new values.***"
      ],
      "metadata": {
        "id": "3R2lREtBV-fN"
      }
    },
    {
      "cell_type": "code",
      "source": [
        "type(doc[2:5])"
      ],
      "metadata": {
        "colab": {
          "base_uri": "https://localhost:8080/"
        },
        "id": "VlLNndvHVrsC",
        "outputId": "859a3587-9b66-4781-d223-a7f8ad636a05"
      },
      "execution_count": 24,
      "outputs": [
        {
          "output_type": "execute_result",
          "data": {
            "text/plain": [
              "spacy.tokens.span.Span"
            ]
          },
          "metadata": {},
          "execution_count": 24
        }
      ]
    },
    {
      "cell_type": "code",
      "source": [
        "from spacy.tokens import Span\n",
        "\n",
        "t1 = Span(doc, 0,1, label=\"PERSON\")\n",
        "t2 = Span(doc, 5,6, label=\"ORG\")\n",
        "\n",
        "#set_ents add value\n",
        "doc.set_ents([t1, t2], default=\"unmodified\")"
      ],
      "metadata": {
        "id": "XNw1PkRcWP3z"
      },
      "execution_count": 34,
      "outputs": []
    },
    {
      "cell_type": "markdown",
      "source": [
        "Now check the above example after training the model"
      ],
      "metadata": {
        "id": "IE5O9affW4og"
      }
    },
    {
      "cell_type": "code",
      "source": [
        "for ent in doc.ents:\n",
        "  print(ent.text, \"|\", ent.label_, \"|\", spacy.explain(ent.label_))"
      ],
      "metadata": {
        "colab": {
          "base_uri": "https://localhost:8080/"
        },
        "id": "VQ4p1VspWklN",
        "outputId": "313318f2-3606-45f7-c8ca-c6c4772f623f"
      },
      "execution_count": 35,
      "outputs": [
        {
          "output_type": "stream",
          "name": "stdout",
          "text": [
            "Asif | PERSON | People, including fictional\n",
            "neflogix | ORG | Companies, agencies, institutions, etc.\n",
            "$5 Billion | MONEY | Monetary values, including unit\n"
          ]
        }
      ]
    },
    {
      "cell_type": "markdown",
      "source": [
        "OUR MODEL IS TRAINED AND IS NOW RECOGNIZING THE ENTITIES WITHOUT ANY ISSUE."
      ],
      "metadata": {
        "id": "lSIuFucfXQr0"
      }
    }
  ]
}